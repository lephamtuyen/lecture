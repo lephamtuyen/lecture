{
 "cells": [
  {
   "cell_type": "markdown",
   "metadata": {},
   "source": [
    "<img src=\"logo.png\"/>\n",
    "\n",
    "<h1 align=center><font size = 5> REINFORCEMENT LEARNING: FROM BASIC TO ADVANCED</font></h1>"
   ]
  },
  {
   "cell_type": "markdown",
   "metadata": {},
   "source": [
    "##  Table of contents\n",
    "<div class=\"alert alert-block alert-info\" style=\"margin-top: 20px\">\n",
    "<br>\n",
    "- <p><a href=\"#ref1\">Goals?</a></p>\n",
    "- <p><a href=\"#ref2\">Requirements?</a></p>\n",
    "- <p><a href=\"#ref3\">What is Reinforcement Learning?</a></p>\n",
    "- <p><a href=\"#ref4\">Reinforcement Learning Approaches?</a></p>\n",
    "- <p><a href=\"#ref4\">Deep Reinforcement Learning?</a></p>\n",
    "- <p><a href=\"#ref6\">Research Areas?</a></p>\n",
    "- <p><a href=\"#ref6\">Conclusion?</a></p>\n",
    "- <p><a href=\"#ref7\">References?</a></p>\n",
    "<p></p>\n",
    "</div>\n",
    "<br>"
   ]
  },
  {
   "cell_type": "markdown",
   "metadata": {},
   "source": [
    "<a id=\"ref1\"></a>\n",
    "# Goals?\n",
    "You will have learned:\n",
    "- What Reinforcement Learning is and how it works\n",
    "- Understanding some ideas and algorithms from basic to advanced\n",
    "- The challenges in Reinforcement Learning.\n",
    "- The lecture is designed to non-RL person."
   ]
  },
  {
   "cell_type": "markdown",
   "metadata": {},
   "source": [
    "<a id=\"ref2\"></a>\n",
    "# Requirement?\n",
    "You should already know:\n",
    "- Beginner level Python\n",
    "- Linear Algebra\n",
    "\n",
    "- Tensorflow (advanced part only)\n",
    "- Deep learning ((advanced part only))"
   ]
  },
  {
   "cell_type": "markdown",
   "metadata": {},
   "source": [
    "Required packages"
   ]
  },
  {
   "cell_type": "code",
   "execution_count": 4,
   "metadata": {
    "collapsed": true
   },
   "outputs": [],
   "source": [
    "import numpy as np\n",
    "import gym\n",
    "import matplotlib.pyplot as plt\n",
    "from collections import deque\n",
    "import random"
   ]
  },
  {
   "cell_type": "markdown",
   "metadata": {},
   "source": [
    "<a id=\"ref3\"></a>\n",
    "# What is Reinforcement Learning?\n",
    "\n",
    "### Definition\n",
    "\n",
    "Reinforcement learning (RL) is an area of machine learning concerned with how the agent take actions in an environment to maximize discounted cumulative reward.\n",
    "\n",
    "<img src=\"images/rl.gif\"/>\n",
    "\n",
    "### The process of RL involves steps:\n",
    "1. The agent observes a **state** from the **environment**\n",
    "2. The agent select an **action** using a **policy**\n",
    "3. The agent executes the **action**\n",
    "4. The agent observes next **state** from the **environment**\n",
    "5. The agent receives a **reward** from the **environment**\n",
    "6. Learning the **policy** based on the experiences\n",
    "7. Iterate until an *optimal* **policy** is found\n",
    "\n",
    "### Example environment: CartPole Balancing\n",
    "\n",
    "Let's use a simulation of a cartpole problem. The goal is to demonstrate, how you can use RL techniques to develop an efficient and safe approach for tackling this problem.\n",
    "\n",
    "<img src=\"images/cartpole.gif\"/>\n",
    "\n",
    "A pole is attached by an un-actuated joint to a cart, which moves along a frictionless track. The goal of cartpole problem is to balance the pole. Here are a few things that we must to take care of:\n",
    "\n",
    "- The problem fails if the pole is more than 12 degrees from vertical.\n",
    "- The problem fails if the cart moves more than 2.4 units from the center.\n",
    "\n",
    "Now, we import the cartpole environment from [Gym OpenAI](https://gym.openai.com). Gym OpenAI is a python package with many environments that are used to evaluate reinfocement learning algorithm.\n",
    "\n",
    "<img src=\"images/gym.png\"/>"
   ]
  },
  {
   "cell_type": "code",
   "execution_count": 7,
   "metadata": {},
   "outputs": [
    {
     "name": "stderr",
     "output_type": "stream",
     "text": [
      "[2019-01-15 10:26:55,081] Making new env: CartPole-v1\n"
     ]
    }
   ],
   "source": [
    "env = gym.make('CartPole-v1')"
   ]
  },
  {
   "cell_type": "markdown",
   "metadata": {},
   "source": [
    "There are different aspects that need to be considered here while modeling an RL solution to this problem: rewards, states, and actions.\n",
    "\n",
    "##### Rewards\n",
    "\n",
    "Since the agent is reward-motivated and is going to learn how to balance the pole by trial experiences in the environment, we need to decide the rewards and/or penalties and their magnitude accordingly. \n",
    "\n",
    "In cartpole problem, a reward of +1 is provided for every timestep that the pole remains upright.\n",
    "\n",
    "##### State Space\n",
    "\n",
    "The State Space is the set of all possible situations the cart-pole system could inhabit. The state should contain useful information the agent needs to make the right action.\n",
    "\n",
    "In cartpole problem, the state has 4 dimensions (4-dimensional states):\n",
    "- Cart Position (min: -4.8, max: 4.8)\n",
    "- Cart Velocity (min: -inf, max: inf)\n",
    "- Pole Angle (min: -24 degrees, max: 24 degrees)\n",
    "- Pole Velocity (min: -inf, max: inf)\n",
    "\n",
    "Print the state space:"
   ]
  },
  {
   "cell_type": "code",
   "execution_count": 8,
   "metadata": {
    "scrolled": true
   },
   "outputs": [
    {
     "name": "stdout",
     "output_type": "stream",
     "text": [
      "Box(4,)\n"
     ]
    }
   ],
   "source": [
    "print(env.observation_space)"
   ]
  },
  {
   "cell_type": "markdown",
   "metadata": {},
   "source": [
    "More details:"
   ]
  },
  {
   "cell_type": "code",
   "execution_count": 9,
   "metadata": {},
   "outputs": [
    {
     "name": "stdout",
     "output_type": "stream",
     "text": [
      "[  4.80000000e+00   3.40282347e+38   4.18879020e-01   3.40282347e+38]\n",
      "[ -4.80000000e+00  -3.40282347e+38  -4.18879020e-01  -3.40282347e+38]\n"
     ]
    }
   ],
   "source": [
    "print(env.observation_space.high)\n",
    "print(env.observation_space.low)"
   ]
  },
  {
   "cell_type": "markdown",
   "metadata": {},
   "source": [
    "##### Action Space\n",
    "\n",
    "The set of all the actions that our agent can take in a given state.\n",
    "\n",
    "In cartpole problem, the agent has two actions:\n",
    "- 0: Push cart to the left\n",
    "- 1: Push cart to the right\n",
    "\n",
    "Print the action space:"
   ]
  },
  {
   "cell_type": "code",
   "execution_count": 10,
   "metadata": {},
   "outputs": [
    {
     "name": "stdout",
     "output_type": "stream",
     "text": [
      "Discrete(2)\n"
     ]
    }
   ],
   "source": [
    "print(env.action_space)"
   ]
  },
  {
   "cell_type": "markdown",
   "metadata": {},
   "source": [
    "##### Policy\n",
    "\n",
    "A policy of a RL algorithm is denoted by $\\pi$, which is the probability of taking an action $a$ given a state $s$: \n",
    "\\begin{align}\n",
    "\\pi = {\\cal P}(a|s),\n",
    "\\end{align}\n",
    "\n",
    "The goal of an RL algorithm is to find an optimal policy $\\pi^*$ in order to maximize the expected discounted reward as follows:\n",
    "\\begin{align}\n",
    "J(\\pi ) = \\mathbb{E}\\bigg[\\sum\\limits_{t = 0}^\\infty {{\\gamma ^t}r({s_t},{a_t})}\\bigg].\n",
    "\\end{align}\n",
    "\n",
    "$\\gamma$ is the discount factor determines how much importance we want to give to future rewards. A high value for the discount factor (close to 1) captures the long-term effective reward, whereas, a discount factor of 0 makes our agent consider only immediate reward, hence making it greedy."
   ]
  },
  {
   "cell_type": "markdown",
   "metadata": {},
   "source": [
    "### Solving the environment without Reinforcement Learning\n",
    "\n",
    "Let's see what would happen if we try to use a heuristic approach to solving the problem without RL.\n",
    "\n",
    "##### Random search\n",
    "\n",
    "We create a class called **LinearAgent** which is parameterized by 4 parameters $\\theta_0$, $\\theta_1$, $\\theta_2$, $\\theta_3$ (between -1 and 1). The agent takes action based on the rules as follows:\n",
    "- Push left if $\\theta_0 * state[0] + \\theta_1 * state[1] + \\theta_2 * state[2] + \\theta_3 * state[3] < 0$\n",
    "- Otherwise: push right\n",
    "\n",
    "<img src=\"images/random.png\"/>"
   ]
  },
  {
   "cell_type": "code",
   "execution_count": 39,
   "metadata": {
    "collapsed": true
   },
   "outputs": [],
   "source": [
    "class LinearAgent:\n",
    "\n",
    "    def __init__(self):\n",
    "        self.thetas = np.random.rand(4) * 2 - 1\n",
    "\n",
    "    def policy(self, state):\n",
    "        z = np.matmul(self.thetas, state)\n",
    "        return 0 if z < 0 else 1"
   ]
  },
  {
   "cell_type": "markdown",
   "metadata": {},
   "source": [
    "Function **run_episode**: colects data samples by running the **env** using **agent**. The output will be 3 arrays:\n",
    "- Array of states\n",
    "- Array of actions\n",
    "- Array of rewards"
   ]
  },
  {
   "cell_type": "code",
   "execution_count": 58,
   "metadata": {
    "collapsed": true
   },
   "outputs": [],
   "source": [
    "def run_episode(env, agent):\n",
    "    states = []\n",
    "    actions = []\n",
    "    rewards = []\n",
    "\n",
    "    state = env.reset()\n",
    "    for _ in range(500):\n",
    "        action = agent.policy(state)\n",
    "        states.append(state)\n",
    "        actions.append(action)\n",
    "\n",
    "        state, reward, done, info = env.step(action)\n",
    "        rewards.append(reward)\n",
    "\n",
    "        if done:\n",
    "            break\n",
    "\n",
    "    return np.array(states), np.array(actions), np.array(rewards)"
   ]
  },
  {
   "cell_type": "markdown",
   "metadata": {},
   "source": [
    "###### **Random search** algorithm: \n",
    "1. Create a **agent**\n",
    "2. For each iteration:\n",
    "    - Create a **new_agent**\n",
    "\n",
    "    - Collect an episode using the **new_agent** and compute the total rewards\n",
    "\n",
    "    - Update the **agent** by **new_agent** if **new_agent** is better than **agent**"
   ]
  },
  {
   "cell_type": "code",
   "execution_count": 59,
   "metadata": {
    "collapsed": true
   },
   "outputs": [],
   "source": [
    "def random_search():\n",
    "    env = gym.make('CartPole-v1')\n",
    "    np.random.seed(123)\n",
    "    env.seed(123)\n",
    "    \n",
    "    best_params = None\n",
    "    best_reward = 0\n",
    "    agent = LinearAgent()\n",
    "    ran_avg_rewards = []\n",
    "    scores = deque(maxlen=100)\n",
    "   \n",
    "    for epi in range(10000):\n",
    "        new_agent = LinearAgent()\n",
    "        _,_,rewards = run_episode(env, new_agent)\n",
    "        total_reward = np.sum(rewards)\n",
    "        if total_reward > best_reward:\n",
    "            best_reward = total_reward\n",
    "            agent = new_agent\n",
    "\n",
    "        # evaluate the agent\n",
    "        _,_,rewards = run_episode(env, agent)\n",
    "        scores.append(np.sum(rewards))\n",
    "        ran_avg_rewards.append(np.mean(scores))\n",
    "        \n",
    "        if (epi%1000==0):\n",
    "            print(\"Episode:\" + str(epi) +\" | Avg Reward: \" + str(ran_avg_rewards[epi]))\n",
    "    \n",
    "    return ran_avg_rewards"
   ]
  },
  {
   "cell_type": "markdown",
   "metadata": {},
   "source": [
    "Now, run the random agent and show the performance:"
   ]
  },
  {
   "cell_type": "code",
   "execution_count": 60,
   "metadata": {},
   "outputs": [
    {
     "name": "stderr",
     "output_type": "stream",
     "text": [
      "[2019-01-16 11:30:57,578] Making new env: CartPole-v1\n"
     ]
    },
    {
     "name": "stdout",
     "output_type": "stream",
     "text": [
      "Episode:0 | Avg Reward: 153.0\n",
      "Episode:1000 | Avg Reward: 346.67\n",
      "Episode:2000 | Avg Reward: 313.31\n",
      "Episode:3000 | Avg Reward: 354.48\n",
      "Episode:4000 | Avg Reward: 341.27\n",
      "Episode:5000 | Avg Reward: 310.83\n",
      "Episode:6000 | Avg Reward: 363.86\n",
      "Episode:7000 | Avg Reward: 335.38\n",
      "Episode:8000 | Avg Reward: 349.39\n",
      "Episode:9000 | Avg Reward: 339.41\n"
     ]
    },
    {
     "data": {
      "image/png": "[encoded data removed]",
      "text/plain": [
       "<matplotlib.figure.Figure at 0x10e785990>"
      ]
     },
     "metadata": {},
     "output_type": "display_data"
    }
   ],
   "source": [
    "ran_avg_rewards = random_search()\n",
    "\n",
    "plt.ylabel('averaged reward')\n",
    "plt.xlabel('Number of Evaluate')\n",
    "plt.plot(ran_avg_rewards)\n",
    "plt.legend(['Random'])\n",
    "plt.show()"
   ]
  },
  {
   "cell_type": "markdown",
   "metadata": {},
   "source": [
    "Balancing around 7 seconds\n",
    "\n",
    "##### Heuristic Agent\n",
    "\n",
    "Now, I use a heuristic as follow:\n",
    "\n",
    "- The agent pushes cart to the **left** if angle and angular velocity of the pole are less than 0\n",
    "- The agent pushes cart to the **right** if angle and angular velocity of the pole are greater than 0\n",
    "- Otherwise, the agent execute a random action.\n",
    "\n",
    "<img src=\"images/heuristic.png\"/>"
   ]
  },
  {
   "cell_type": "code",
   "execution_count": 17,
   "metadata": {
    "collapsed": true
   },
   "outputs": [],
   "source": [
    "class HeuristicAgent:\n",
    "\n",
    "    def __init__(self):\n",
    "        pass\n",
    "\n",
    "    def policy(self, state):\n",
    "        # Heuristic approach\n",
    "        if (state[2] < 0 and state[3] < 0):\n",
    "            return 0\n",
    "        elif (state[2] > 0 and state[3] > 0):\n",
    "            return 1\n",
    "        else:\n",
    "            return np.random.randint(0, 2)"
   ]
  },
  {
   "cell_type": "markdown",
   "metadata": {},
   "source": [
    "Run the heuristic agent and show the performance. The program is as follows:\n",
    "\n",
    "1. Create a **HeuristicAgent**\n",
    "2. For each iteration:\n",
    "    - Collect an episode using the **HeuristicAgent** and compute the total rewards"
   ]
  },
  {
   "cell_type": "code",
   "execution_count": 18,
   "metadata": {},
   "outputs": [
    {
     "name": "stderr",
     "output_type": "stream",
     "text": [
      "[2019-01-15 10:30:57,636] Making new env: CartPole-v1\n"
     ]
    },
    {
     "name": "stdout",
     "output_type": "stream",
     "text": [
      "Episode:0 | Avg Reward: 500.0\n",
      "Episode:250 | Avg Reward: 439.67\n",
      "Episode:500 | Avg Reward: 457.2\n",
      "Episode:750 | Avg Reward: 452.48\n",
      "Episode:1000 | Avg Reward: 443.73\n",
      "Episode:1250 | Avg Reward: 433.83\n",
      "Episode:1500 | Avg Reward: 454.64\n",
      "Episode:1750 | Avg Reward: 447.74\n",
      "Episode:2000 | Avg Reward: 451.51\n",
      "Episode:2250 | Avg Reward: 444.79\n",
      "Episode:2500 | Avg Reward: 435.61\n",
      "Episode:2750 | Avg Reward: 450.72\n",
      "Episode:3000 | Avg Reward: 446.0\n",
      "Episode:3250 | Avg Reward: 456.13\n",
      "Episode:3500 | Avg Reward: 444.55\n",
      "Episode:3750 | Avg Reward: 445.93\n",
      "Episode:4000 | Avg Reward: 445.64\n",
      "Episode:4250 | Avg Reward: 437.7\n",
      "Episode:4500 | Avg Reward: 441.39\n",
      "Episode:4750 | Avg Reward: 456.74\n",
      "Episode:5000 | Avg Reward: 431.67\n",
      "Episode:5250 | Avg Reward: 452.25\n",
      "Episode:5500 | Avg Reward: 448.11\n",
      "Episode:5750 | Avg Reward: 442.46\n",
      "Episode:6000 | Avg Reward: 447.12\n",
      "Episode:6250 | Avg Reward: 439.27\n",
      "Episode:6500 | Avg Reward: 446.74\n",
      "Episode:6750 | Avg Reward: 448.43\n",
      "Episode:7000 | Avg Reward: 445.79\n",
      "Episode:7250 | Avg Reward: 446.77\n",
      "Episode:7500 | Avg Reward: 443.46\n",
      "Episode:7750 | Avg Reward: 447.18\n",
      "Episode:8000 | Avg Reward: 432.02\n",
      "Episode:8250 | Avg Reward: 455.81\n",
      "Episode:8500 | Avg Reward: 445.89\n",
      "Episode:8750 | Avg Reward: 458.05\n",
      "Episode:9000 | Avg Reward: 438.32\n",
      "Episode:9250 | Avg Reward: 431.1\n",
      "Episode:9500 | Avg Reward: 446.25\n",
      "Episode:9750 | Avg Reward: 442.06\n"
     ]
    },
    {
     "data": {
      "image/png": "[encoded data removed]",
      "text/plain": [
       "<matplotlib.figure.Figure at 0x10d9aadd0>"
      ]
     },
     "metadata": {},
     "output_type": "display_data"
    }
   ],
   "source": [
    "def heuristic():\n",
    "    env = gym.make('CartPole-v1')\n",
    "    np.random.seed(123)\n",
    "    env.seed(123)\n",
    "    \n",
    "    heu_avg_rewards = []\n",
    "    scores = deque(maxlen=100)\n",
    "    agent = HeuristicAgent()\n",
    "    \n",
    "    for runs in range(10000):\n",
    "        _,_,rewards = run_episode(env, agent)\n",
    "        scores.append(np.sum(rewards))\n",
    "        heu_avg_rewards.append(np.mean(scores))\n",
    "        \n",
    "        if (runs%250==0):\n",
    "            print(\"Episode:\" + str(runs) +\" | Avg Reward: \" + str(heu_avg_rewards[runs]))\n",
    "        \n",
    "    return heu_avg_rewards\n",
    "\n",
    "# plot\n",
    "heu_avg_rewards = heuristic()\n",
    "plt.plot(range(10000),ran_avg_rewards)\n",
    "plt.plot(range(10000),heu_avg_rewards)\n",
    "plt.legend([\"Random\", 'Heuristic'])\n",
    "plt.show()"
   ]
  },
  {
   "cell_type": "markdown",
   "metadata": {},
   "source": [
    "The cart-pole balance in 9s but the agent does not learn anything.\n",
    "\n",
    "So, now let's use some algorithms to control the cart-pole"
   ]
  },
  {
   "cell_type": "markdown",
   "metadata": {},
   "source": [
    "# RL Approaches?\n",
    "\n",
    "I prefer to categorize the RL algorithms into three approaches: value-based approach, policy-based approach and actor-critic approach. Other ways to classification: model-free approach vs model-based approach, on-policy vs off-policy\n",
    "\n",
    "<img src=\"images/taxonomy.png\"/>\n",
    "\n",
    "### Value-based approach\n",
    "\n",
    "A typical value-based approach tries to obtain an optimal policy by finding optimal value functions (${\\cal V}$ values) or action-value function (${\\cal Q}$ values). \n",
    "\n",
    "##### Value function ${\\cal V}(s_t)$\n",
    "\n",
    "The value of state $s$ is defined to be the expected discounted reward which the agent can get if the agent starts in state $s$. Formally, this can be written as:\n",
    "\n",
    "\\begin{align}\n",
    "{\\cal V} (s_t) = \\mathbb{E}\\bigg[\\sum\\limits_{t' = t}^T {{\\gamma ^{t'-t}}r({s_{t'}},{a_{t'}})}\\bigg].\n",
    "\\end{align}\n",
    "\n",
    "<img src=\"images/v_value.png\"/>\n",
    "\n",
    "Assume we have a cheat sheet scoring every state: \n",
    "\n",
    "\\begin{align}\n",
    "{\\cal V}(s_t).\n",
    "\\end{align}\n",
    "\n",
    "We can simply look at the cheat sheet and find what is the next most rewarding state and take the corresponding action.\n",
    "\n",
    "##### Action-value function ${\\cal Q}(s_t, a_t)$\n",
    "\n",
    "Action-value function ${\\cal Q}$ measures the expected discounted rewards of taking an action $a_t$ at state $s_t$\n",
    "\n",
    "\\begin{align}\n",
    "{\\cal Q} (s_t,a_t) = \\mathbb{E}\\bigg[\\sum\\limits_{t' = t}^T {{\\gamma ^{t'-t}}r({s_{t'}},{a_{t'}})}\\bigg].\n",
    "\\end{align}\n",
    "\n",
    "<img src=\"images/q_value.png\"/>\n",
    "\n",
    "##### Methods to estimate ${\\cal V}$ and ${\\cal Q}$\n",
    "\n",
    "###### Dynamic Programming (DP)\n",
    "\n",
    "Dynamic Programming is a very general solution method for problems which have two properties:\n",
    "1. Optimal substructure\n",
    "- Principle of optimality applies\n",
    "- Optimal solution can be decomposed into subproblems\n",
    "2. Overlapping subproblems\n",
    "- Subproblems recur many times\n",
    "- Solutions can be cached and reused\n",
    "\n",
    "Dynamic programming assumes *full knowledge* of the MDP (E.g. we know everything about the environment).\n",
    "\n",
    "I ignore the DP-based algorithms because it is difficult to solve *unknown* MDP\n",
    "\n",
    "###### Monte-Carlo (MC)\n",
    "\n",
    "- MC methods estimate ${\\cal Q}$ directly from episodes of experience\n",
    "- MC is model-free: no knowledge of MDP transitions / rewards\n",
    "- MC learns from complete episodes.\n",
    "- Can only apply MC to episodic MDPs (All episodes must be terminated)\n",
    "\n",
    "Now, we try to use MC method to control cartpole problem. First, we need to build a Q-table. \n",
    "\n",
    "- The Q-table is a matrix where we have a row for each state (discrete state) and a column for each action (2 actions). It's first initialized to 0, and then values are updated after training.\n",
    "\n",
    "In cartpole, the state space is a continous state space. Thus, we need to discretize the state space to discrete state. The discrete intervals are defined as follows:\n",
    "\n",
    "- Cart Position ($x$) is devided into 1 part: [-4.8:4.8]\n",
    "- Cart Velocity ($\\dot{x}$) is devided into 8 parts: [-3:-2.25], [-2.25:-1.5], [-1.5:-0.75], [-0.75:0], [0:0.75], [0.75:1.5], [1.5:2.25], [2.25:3]\n",
    "- Pole Angle ($\\theta$) is devided into 8 parts (in degrees): [-24:-18], [-18:-12], [-12:-6], [-6:0], [0:6], [6:12], [12:18], [18:24]\n",
    "- Pole Velocity ($\\dot{\\theta}$) is devided into 8 parts: [-2:-1.5], [-1.5:-1], [-1:-0.5], [-0.5:0], [0:0.5], [0.5:1], [1:1.5], [1.5:2]\n",
    "\n",
    "Totally, we have 512 states. The form of Q-table as follows:\n",
    "\n",
    "<img src=\"images/q_table.png\"/>\n",
    "\n",
    "We need some functions:\n",
    "- **discretize_val**: converts each dimensional state to particular interval.\n",
    "- **obs_to_state**: converts a state to a index in the table (from 0 to 511)"
   ]
  },
  {
   "cell_type": "code",
   "execution_count": 53,
   "metadata": {
    "collapsed": true
   },
   "outputs": [],
   "source": [
    "def discretize_val(val, min_val, max_val, num_states):\n",
    "    state = int(num_states * (val - min_val) / (max_val - min_val))\n",
    "    if state >= num_states:\n",
    "        state = num_states - 1\n",
    "    if state < 0:\n",
    "        state = 0\n",
    "    return state\n",
    "\n",
    "def get_state_idx(state):\n",
    "    num_interval = [1, 8, 8, 8]\n",
    "    lower_bounds = [-4.8, -3, -0.418, -2]\n",
    "    upper_bounds = [4.8, 3, 0.418, 2]\n",
    "\n",
    "    state_idx = []\n",
    "    for ob, lower, upper, num in zip(state, lower_bounds, upper_bounds, num_interval):\n",
    "        state_idx.append(discretize_val(ob, lower, upper, num))\n",
    "    \n",
    "    return state_idx[1] * 64 + state_idx[2] * 8 + state_idx[3]"
   ]
  },
  {
   "cell_type": "markdown",
   "metadata": {},
   "source": [
    "For example, we have a state is [1.0, 1.0, -0.1, 1.0]. This state will equivalent to the row 350 in the Q-table"
   ]
  },
  {
   "cell_type": "code",
   "execution_count": 54,
   "metadata": {},
   "outputs": [
    {
     "name": "stdout",
     "output_type": "stream",
     "text": [
      "350\n"
     ]
    }
   ],
   "source": [
    "print(get_state_idx(np.array([1.0, 1.0, -0.1, 1.0])))"
   ]
  },
  {
   "cell_type": "markdown",
   "metadata": {},
   "source": [
    "**get_discounted_rewards**: return a discounted reward of each state in a episode. $R_t = \\sum\\limits_{t' = t}^T {{\\gamma ^{t'-t}}r({s_{t'}},{a_{t'}})}$"
   ]
  },
  {
   "cell_type": "code",
   "execution_count": 47,
   "metadata": {
    "collapsed": true
   },
   "outputs": [],
   "source": [
    "def get_discounted_rewards(rewards, gamma):\n",
    "    future_discounted_reward = 0\n",
    "    discounted_rewards = np.empty_like(rewards, dtype=np.float64)\n",
    "    for i in range(rewards.shape[0] - 1, -1, -1):\n",
    "        discounted_rewards[i] = rewards[i] + gamma * future_discounted_reward\n",
    "        future_discounted_reward = discounted_rewards[i]\n",
    "\n",
    "    return discounted_rewards"
   ]
  },
  {
   "cell_type": "markdown",
   "metadata": {},
   "source": [
    "Assume that we have an array of 10 rewards at 10 states [1.0, 1.0, 1.0, 1.0, 1.0, 1.0, 1.0, 1.0, 1.0, 1.0]. The function will return as follows:"
   ]
  },
  {
   "cell_type": "code",
   "execution_count": 55,
   "metadata": {},
   "outputs": [
    {
     "name": "stdout",
     "output_type": "stream",
     "text": [
      "[ 9.5617925   8.64827525  7.72553056  6.79346521  5.85198506  4.90099501\n",
      "  3.940399    2.9701      1.99        1.        ]\n"
     ]
    }
   ],
   "source": [
    "rewards = np.array([1.0, 1.0, 1.0, 1.0, 1.0, 1.0, 1.0, 1.0, 1.0, 1.0])\n",
    "print(get_discounted_rewards(rewards, 0.99))"
   ]
  },
  {
   "cell_type": "markdown",
   "metadata": {},
   "source": [
    "Create **MCAgent** class with some methods:\n",
    "1. **init**: \n",
    "    - define some hyperparameters ($\\gamma$, $\\epsilon$, $\\epsilon$ decay)\n",
    "    - create Q-table (512x2)\n",
    "    - create a table to count the number of visited states\n",
    "2. **policy**: using Q table to take action. Here is a greedy-epsilon policy\n",
    "\n",
    "\\begin{equation} \n",
    "\\pi(a|s) = \\begin{cases}\n",
    "argmax{Q(s,a)} & random > \\epsilon\\\\\n",
    "\\textit{a random action} & random < \\epsilon\n",
    "\\end{cases}\n",
    "\\end{equation}\n",
    "\n",
    "- **update**: using sampled episode to update the Q action-values in Q-table. Particularly, \n",
    "    * First, we find the total discounted reward $G_t$ (total discounted rewards from $s_t$ to the end). $G_t = \\sum\\limits_{t' = t}^T {{\\gamma ^{t'-t}}r({s_{t'}},{a_{t'}})}$\n",
    "\n",
    "    * We update the action value function by adding a small portion of the difference between new estimate $G_t$ and the current action value $Q(s_t, a_t)$ back to itself.\n",
    "\n",
    "\\begin{equation} \n",
    "Q(s_t, a_t)=Q(s_t,a_t)+\\alpha(G_t−Q(s_t,a_t))\n",
    "\\end{equation}\n",
    "\n",
    "This approach creates a running mean from a stream of estimates. With many episodes, $Q(s_t, a_t)$ will converge to the true value.\n",
    "\n",
    "<img src=\"images/MC.png\"/>\n",
    "\n",
    "In the code below:\n",
    "\n",
    "\\begin{equation} \n",
    "Q(s_t, a_t) = Q(s_t, a_t) + \\frac{1}{\\textit{number of visited state $s_t$ and take action $a_t$}}(G_t - Q(s_t, a_t))\n",
    "\\end{equation}"
   ]
  },
  {
   "cell_type": "code",
   "execution_count": 46,
   "metadata": {
    "collapsed": true
   },
   "outputs": [],
   "source": [
    "class MCAgent(object):\n",
    "    def __init__(self):\n",
    "        self.gamma = 1.0\n",
    "        self.eps = 0.1\n",
    "        self.eps_decay = 0.99999\n",
    "\n",
    "        self.Q = np.zeros((512, 2))\n",
    "        self.Q_num = np.zeros((512, 2))\n",
    "\n",
    "    def policy(self, state):\n",
    "        state_idx = get_state_idx(state)\n",
    "\n",
    "        random = np.random.rand(1)[0]\n",
    "        if random > self.eps:\n",
    "            action_values = self.Q[state_idx, :]\n",
    "            return np.argmax(action_values)\n",
    "        else:\n",
    "            return np.random.randint(0, 2)\n",
    "\n",
    "    def update(self, states, actions, rewards):\n",
    "        discounted_rewards = get_discounted_rewards(np.array(rewards), self.gamma)\n",
    "        for state, action, disc_rew in zip(states, actions, discounted_rewards):\n",
    "            state_idx = get_state_idx(state)\n",
    "\n",
    "            # incremental averaging\n",
    "            self.Q_num[state_idx, action] += 1\n",
    "            self.Q[state_idx, action] += (disc_rew - self.Q[state_idx, action]) / self.Q_num[state_idx, action]\n",
    "\n",
    "        self.eps *= self.eps_decay"
   ]
  },
  {
   "cell_type": "markdown",
   "metadata": {},
   "source": [
    "Now, run the MC algorithm and report the performance. The program runs as follows:\n",
    "1. For each iteration\n",
    "2. Obtain the data by running the **env** using **MCAgent**\n",
    "3. Update agent using the colected data."
   ]
  },
  {
   "cell_type": "code",
   "execution_count": 21,
   "metadata": {},
   "outputs": [
    {
     "name": "stderr",
     "output_type": "stream",
     "text": [
      "[2019-01-15 10:46:26,656] Making new env: CartPole-v1\n"
     ]
    },
    {
     "name": "stdout",
     "output_type": "stream",
     "text": [
      "Episode:0 | Avg Reward: 10.0\n",
      "Episode:250 | Avg Reward: 109.3\n",
      "Episode:500 | Avg Reward: 113.1\n",
      "Episode:750 | Avg Reward: 122.84\n",
      "Episode:1000 | Avg Reward: 130.69\n",
      "Episode:1250 | Avg Reward: 117.28\n",
      "Episode:1500 | Avg Reward: 123.18\n",
      "Episode:1750 | Avg Reward: 125.23\n",
      "Episode:2000 | Avg Reward: 124.97\n",
      "Episode:2250 | Avg Reward: 130.03\n",
      "Episode:2500 | Avg Reward: 122.72\n",
      "Episode:2750 | Avg Reward: 122.97\n",
      "Episode:3000 | Avg Reward: 122.71\n",
      "Episode:3250 | Avg Reward: 124.83\n",
      "Episode:3500 | Avg Reward: 124.32\n",
      "Episode:3750 | Avg Reward: 122.73\n",
      "Episode:4000 | Avg Reward: 123.4\n",
      "Episode:4250 | Avg Reward: 124.54\n",
      "Episode:4500 | Avg Reward: 125.87\n",
      "Episode:4750 | Avg Reward: 124.11\n",
      "Episode:5000 | Avg Reward: 124.07\n",
      "Episode:5250 | Avg Reward: 124.42\n",
      "Episode:5500 | Avg Reward: 123.24\n",
      "Episode:5750 | Avg Reward: 126.18\n",
      "Episode:6000 | Avg Reward: 123.08\n",
      "Episode:6250 | Avg Reward: 119.45\n",
      "Episode:6500 | Avg Reward: 127.88\n",
      "Episode:6750 | Avg Reward: 122.84\n",
      "Episode:7000 | Avg Reward: 135.12\n",
      "Episode:7250 | Avg Reward: 142.27\n",
      "Episode:7500 | Avg Reward: 143.14\n",
      "Episode:7750 | Avg Reward: 139.58\n",
      "Episode:8000 | Avg Reward: 143.4\n",
      "Episode:8250 | Avg Reward: 208.2\n",
      "Episode:8500 | Avg Reward: 333.96\n",
      "Episode:8750 | Avg Reward: 479.54\n",
      "Episode:9000 | Avg Reward: 483.8\n",
      "Episode:9250 | Avg Reward: 486.28\n",
      "Episode:9500 | Avg Reward: 494.84\n",
      "Episode:9750 | Avg Reward: 490.59\n"
     ]
    },
    {
     "data": {
      "image/png": "[encoded data removed]",
      "text/plain": [
       "<matplotlib.figure.Figure at 0x10a78de90>"
      ]
     },
     "metadata": {},
     "output_type": "display_data"
    }
   ],
   "source": [
    "def monte_carlo():\n",
    "    env = gym.make('CartPole-v1')\n",
    "    np.random.seed(123)\n",
    "    env.seed(123)\n",
    "    \n",
    "    agent = MCAgent()\n",
    "    mc_avg_rewards = []\n",
    "    scores = deque(maxlen=100)\n",
    "    \n",
    "    for run in range(10000):\n",
    "        states, actions, rewards = run_episode(env, agent)\n",
    "        # update Q table\n",
    "        agent.update(states, actions, rewards)\n",
    "        \n",
    "        # for plot\n",
    "        scores.append(np.sum(rewards))\n",
    "        mc_avg_rewards.append(np.mean(scores))\n",
    "        if (run%250==0):\n",
    "            print(\"Episode:\" + str(run) +\" | Avg Reward: \" + str(mc_avg_rewards[run]))\n",
    " \n",
    "    return mc_avg_rewards\n",
    "\n",
    "# plot\n",
    "mc_avg_rewards = monte_carlo()\n",
    "plt.plot(range(10000),ran_avg_rewards)\n",
    "plt.plot(range(10000),heu_avg_rewards)\n",
    "plt.plot(range(10000),mc_avg_rewards)\n",
    "plt.legend([\"Random\", 'Heuristic', \"Monte Carlo\"])\n",
    "plt.show()        "
   ]
  },
  {
   "cell_type": "markdown",
   "metadata": {},
   "source": [
    "Using MC, the pole balance within 10s. MC take 10000 episode to learn the optimal policy."
   ]
  },
  {
   "cell_type": "markdown",
   "metadata": {
    "slideshow": {
     "slide_type": "slide"
    }
   },
   "source": [
    "##### Temporal difference (TD)\n",
    "\n",
    "In temporal-difference (TD), we look ahead 1 step to estimate a new total reward by adding the action reward to the value function of the next state:\n",
    "\n",
    "\\begin{equation} \n",
    "{\\cal V}′(s_t)=r_t + 1+\\gamma {\\cal V}(s_{t+1})\n",
    "\\end{equation}\n",
    "\n",
    "<img src=\"images/TD.png\"/>\n",
    "\n",
    "We compute the difference of ${\\cal V}(s_t)$ and ${\\cal V}′(s_t)$ (E.g. *TD error*). Then we add a portion of the difference back to ${\\cal V}(s_t)$.\n",
    "\n",
    "\\begin{equation}\n",
    "\\sigma = r_t+1+\\gamma {\\cal V}(s_{t+1})−V(s_t) \\\\\n",
    "{\\cal V}(s_t)={\\cal V}(s_t)+\\alpha \\sigma\n",
    "\\end{equation}\n",
    "\n",
    "After repeating many episodes, {\\cal V} converges to a good estimate.\n",
    "\n",
    "In fact, we can has n-step look ahead with n approaches infinity. n = 1, this is TD and n = $\\inf$, this is Monte-Carlo.\n",
    "\n",
    "In practial, we use a hyperparameter $\\lambda$ , E.g. TD($\\lambda$), to tradeoff between TD and Monte-Carlo. We ignore the class of TD($\\lambda$) method.\n",
    "\n",
    "<img src=\"images/MC_TD.png\"/>\n",
    "\n",
    "##### Q-Learning and SARSA algorithm\n",
    "\n",
    "The $TD$ error of ${\\cal Q}$ values is calculated by:\n",
    "\n",
    "\\begin{align}\n",
    "TD = r + \\gamma {\\cal Q}(s',a') - {\\cal Q}(s,a)\n",
    "\\end{align}\n",
    "\n",
    "Based on the choice of $a'$, we can classify TD error into two methods: ${\\cal Q}$-Learning algorithm and SARSA algorithm.\n",
    "\n",
    "In ${\\cal Q}$-Learning, $a'$ is chosen to maximize the ${\\cal Q}$ value.\n",
    "\n",
    "\\begin{align}\n",
    "TD_{Q-Learning} = r + \\gamma \\max \\limits _{a'} {\\cal Q}(s',a') - {\\cal Q}(s,a)\n",
    "\\end{align}\n",
    "\n",
    "<img src=\"images/q_learning.png\"/>\n",
    "\n",
    "Now is time for coding. First, we create class **QLearningAgent** with some methods:\n",
    "\n",
    "1. **init**: \n",
    "    * Initialize hyperparameters ($\\gamma$, $\\epsilon$, $\\alpha$)\n",
    "    * Initialize Q table\n",
    "2. **policy**:\n",
    "    * Receive a state and return an action.\n",
    "    * We using $\\epsilon$-greedy policy.\n",
    "    \n",
    "\\begin{equation} \n",
    "a = \\begin{cases}\n",
    "argmax{Q(s,a)} & random > \\epsilon\\\\\n",
    "\\textit{a random action} & random < \\epsilon\n",
    "\\end{cases}\n",
    "\\end{equation}\n",
    "\n",
    "3. **update_epsilon** and **update_alpha** decrease the manitude of $\\alpha$ and $\\epsilon$ after each episode\n",
    "4. **update**: Q-learning update as the formula above"
   ]
  },
  {
   "cell_type": "code",
   "execution_count": 22,
   "metadata": {
    "collapsed": true,
    "slideshow": {
     "slide_type": "slide"
    }
   },
   "outputs": [],
   "source": [
    "class QLearningAgent(object):\n",
    "    def __init__(self):\n",
    "        self.gamma = 1.0\n",
    "        self.eps = 1.0\n",
    "        self.alpha = 1.0\n",
    "\n",
    "        self.Q = np.zeros((512, 2))\n",
    "\n",
    "    def policy(self, state):\n",
    "        state_idx = get_state_idx(state)\n",
    "\n",
    "        random = np.random.rand(1)[0]\n",
    "        if random > self.eps:\n",
    "            action_values = self.Q[state_idx, :]\n",
    "            return np.argmax(action_values)\n",
    "        else:\n",
    "            return np.random.randint(0, 2)\n",
    "\n",
    "    def update_epsilon(self, t):\n",
    "        # Update epsilon\n",
    "        self.eps =  max(0.01, min(1.0, 1.0 - np.log((t + 1) / 100)))\n",
    "\n",
    "    def update_alpha(self, t):\n",
    "        # Update alpha\n",
    "        self.alpha =  max(0.01, min(1.0, 1.0 - np.log((t + 1) / 100)))\n",
    "\n",
    "    def update(self, state, action, next_state, reward):\n",
    "\n",
    "        state_idx = get_state_idx(state)\n",
    "        next_state_idx = get_state_idx(next_state)\n",
    "\n",
    "        # TD Update\n",
    "        maxQ = np.max(self.Q[next_state_idx, :])\n",
    "        target_Q = reward + self.gamma * maxQ\n",
    "        self.Q[state_idx, action] += self.alpha * (target_Q - self.Q[state_idx, action])"
   ]
  },
  {
   "cell_type": "markdown",
   "metadata": {},
   "source": [
    "Run Q-Learning algorithm and report performance. Pseudocode as follows:\n",
    "1. Create **QLearningAgent**\n",
    "2. For each episode\n",
    "    1. Initialize the initial state\n",
    "    2. For each steps in episode\n",
    "        * Predict action using QLearningAgent\n",
    "        * Take the next steps and get the next state and reward.\n",
    "        * Using the collected data to update **QLearningAgent**\n",
    "    3. Decrease the value of $\\alpha$ and $\\epsilon$"
   ]
  },
  {
   "cell_type": "code",
   "execution_count": 23,
   "metadata": {},
   "outputs": [
    {
     "name": "stderr",
     "output_type": "stream",
     "text": [
      "[2019-01-15 10:50:24,171] Making new env: CartPole-v1\n",
      "/anaconda/lib/python2.7/site-packages/ipykernel_launcher.py:21: RuntimeWarning: divide by zero encountered in log\n",
      "/anaconda/lib/python2.7/site-packages/ipykernel_launcher.py:25: RuntimeWarning: divide by zero encountered in log\n"
     ]
    },
    {
     "name": "stdout",
     "output_type": "stream",
     "text": [
      "Episode:0 | Avg Reward: 33.0\n",
      "Episode:250 | Avg Reward: 45.23\n",
      "Episode:500 | Avg Reward: 497.05\n",
      "Episode:750 | Avg Reward: 493.66\n",
      "Episode:1000 | Avg Reward: 496.98\n",
      "Episode:1250 | Avg Reward: 500.0\n",
      "Episode:1500 | Avg Reward: 498.77\n",
      "Episode:1750 | Avg Reward: 495.81\n",
      "Episode:2000 | Avg Reward: 494.19\n",
      "Episode:2250 | Avg Reward: 495.94\n",
      "Episode:2500 | Avg Reward: 497.53\n",
      "Episode:2750 | Avg Reward: 493.73\n",
      "Episode:3000 | Avg Reward: 491.18\n",
      "Episode:3250 | Avg Reward: 497.1\n",
      "Episode:3500 | Avg Reward: 437.18\n",
      "Episode:3750 | Avg Reward: 496.97\n",
      "Episode:4000 | Avg Reward: 495.26\n",
      "Episode:4250 | Avg Reward: 500.0\n",
      "Episode:4500 | Avg Reward: 498.97\n",
      "Episode:4750 | Avg Reward: 494.16\n",
      "Episode:5000 | Avg Reward: 500.0\n",
      "Episode:5250 | Avg Reward: 496.35\n",
      "Episode:5500 | Avg Reward: 499.23\n",
      "Episode:5750 | Avg Reward: 496.16\n",
      "Episode:6000 | Avg Reward: 495.03\n",
      "Episode:6250 | Avg Reward: 490.0\n",
      "Episode:6500 | Avg Reward: 476.57\n",
      "Episode:6750 | Avg Reward: 492.17\n",
      "Episode:7000 | Avg Reward: 497.96\n",
      "Episode:7250 | Avg Reward: 500.0\n",
      "Episode:7500 | Avg Reward: 498.31\n",
      "Episode:7750 | Avg Reward: 497.3\n",
      "Episode:8000 | Avg Reward: 485.38\n",
      "Episode:8250 | Avg Reward: 476.65\n",
      "Episode:8500 | Avg Reward: 500.0\n",
      "Episode:8750 | Avg Reward: 495.65\n",
      "Episode:9000 | Avg Reward: 500.0\n",
      "Episode:9250 | Avg Reward: 495.34\n",
      "Episode:9500 | Avg Reward: 495.34\n",
      "Episode:9750 | Avg Reward: 460.06\n"
     ]
    },
    {
     "data": {
      "image/png": "[encoded data removed]",
      "text/plain": [
       "<matplotlib.figure.Figure at 0x10dad7d90>"
      ]
     },
     "metadata": {},
     "output_type": "display_data"
    }
   ],
   "source": [
    "def q_learning():\n",
    "    qlearning_avg_rewards = []\n",
    "    env = gym.make('CartPole-v1')\n",
    "    np.random.seed(123)\n",
    "    env.seed(123)\n",
    "    agent = QLearningAgent()\n",
    "    scores = deque(maxlen=100)\n",
    "\n",
    "    for epi in range(10000):\n",
    "        # Run each episode\n",
    "        state = env.reset()\n",
    "        total_reward = 0\n",
    "        for i in range(500):\n",
    "            action = agent.policy(state)\n",
    "            next_state, reward, done, info = env.step(action)\n",
    "            # update\n",
    "            agent.update(state, action, next_state, reward)\n",
    "\n",
    "            state = next_state\n",
    "            total_reward += 1\n",
    "            if done:\n",
    "                break\n",
    "\n",
    "        # for plot\n",
    "        scores.append(total_reward)\n",
    "        qlearning_avg_rewards.append(np.mean(scores))\n",
    "\n",
    "        if (epi%250==0):\n",
    "            print(\"Episode:\" + str(epi) +\" | Avg Reward: \" + str(qlearning_avg_rewards[epi]))\n",
    "\n",
    "        agent.update_epsilon(epi)\n",
    "        agent.update_alpha(epi)\n",
    "\n",
    "    return qlearning_avg_rewards\n",
    "    \n",
    "# plot\n",
    "qlearning_avg_rewards = q_learning()\n",
    "plt.plot(range(10000),qlearning_avg_rewards)\n",
    "plt.plot(range(10000),mc_avg_rewards)\n",
    "plt.legend(['QLearning', \"Monte Carlo\"])\n",
    "plt.show() "
   ]
  },
  {
   "cell_type": "markdown",
   "metadata": {},
   "source": [
    "##### SARSA algorithm\n",
    "\n",
    "In SARSA learning (**S**tate **A**ction **R**eward **S**tate **A**ction learning), a′ is chosen by $\\epsilon$-greedy Q\n",
    "\n",
    "\\begin{align}\n",
    "TD_{SARSA} = r + \\gamma {\\cal Q}(s',a') - {\\cal Q}(s,a)\n",
    "\\end{align}\n",
    "\n",
    "<img src=\"images/sarsa.png\"/>"
   ]
  },
  {
   "cell_type": "markdown",
   "metadata": {},
   "source": [
    "Here is the code of **SARSAAgent**. Almost are the same with **QLearningAgent**. The difference is from **update** method.\n",
    "- Line 34: the next action is predicted using $\\epsilon$-greedy"
   ]
  },
  {
   "cell_type": "code",
   "execution_count": 24,
   "metadata": {
    "collapsed": true
   },
   "outputs": [],
   "source": [
    "class SARSAAgent(object):\n",
    "    def __init__(self):\n",
    "        self.gamma = 1.0\n",
    "        self.eps = 1.0\n",
    "        self.alpha = 1.0\n",
    "\n",
    "        self.Q = np.zeros((512, 2))\n",
    "\n",
    "    def policy(self, state):\n",
    "        state_idx = get_state_idx(state)\n",
    "\n",
    "        random = np.random.rand(1)[0]\n",
    "        if random > self.eps:\n",
    "            action_values = self.Q[state_idx, :]\n",
    "            return np.argmax(action_values)\n",
    "        else:\n",
    "            return np.random.randint(0, 2)\n",
    "\n",
    "    def update_epsilon(self, t):\n",
    "        # Update epsilon\n",
    "        self.eps =  max(0.01, min(1.0, 1.0 - np.log((t + 1) / 100)))\n",
    "\n",
    "    def update_alpha(self, t):\n",
    "        # Update alpha\n",
    "        self.alpha = 0.075\n",
    "        # self.alpha =  max(0.05, min(1.0, 1.0 - np.log((t + 1) / 100)))\n",
    "\n",
    "    def update(self, state, action, next_state, reward):\n",
    "\n",
    "        state_idx = get_state_idx(state)\n",
    "        next_state_idx = get_state_idx(next_state)\n",
    "\n",
    "        # TD Update\n",
    "        next_action = self.policy(next_state)\n",
    "        target_Q = reward + self.gamma * self.Q[next_state_idx, next_action]\n",
    "        self.Q[state_idx, action] += self.alpha * (target_Q - self.Q[state_idx, action])\n"
   ]
  },
  {
   "cell_type": "markdown",
   "metadata": {},
   "source": [
    "Run Q-Learning algorithm and report performance. Pseudocode as follows:\n",
    "1. Create **SARSAAgent**\n",
    "2. For each episode\n",
    "    1. Initialize the initial state\n",
    "    2. For each steps in episode\n",
    "        * Predict action using SarsaAgent\n",
    "        * Take the next steps and get the next state and reward.\n",
    "        * Using the collected data to update **SARSAAgent**\n",
    "    3. Decrease the value of $\\alpha$ and $\\epsilon$"
   ]
  },
  {
   "cell_type": "code",
   "execution_count": 25,
   "metadata": {
    "scrolled": true
   },
   "outputs": [
    {
     "name": "stderr",
     "output_type": "stream",
     "text": [
      "[2019-01-15 10:57:29,462] Making new env: CartPole-v1\n",
      "/anaconda/lib/python2.7/site-packages/ipykernel_launcher.py:21: RuntimeWarning: divide by zero encountered in log\n"
     ]
    },
    {
     "name": "stdout",
     "output_type": "stream",
     "text": [
      "Episode:0 | Avg Reward: 21.0\n",
      "Episode:1000 | Avg Reward: 95.27\n",
      "Episode:2000 | Avg Reward: 183.75\n",
      "Episode:3000 | Avg Reward: 478.46\n",
      "Episode:4000 | Avg Reward: 473.09\n",
      "Episode:5000 | Avg Reward: 493.62\n",
      "Episode:6000 | Avg Reward: 450.53\n",
      "Episode:7000 | Avg Reward: 486.52\n",
      "Episode:8000 | Avg Reward: 454.54\n",
      "Episode:9000 | Avg Reward: 500.0\n"
     ]
    },
    {
     "data": {
      "image/png": "[encoded data removed]",
      "text/plain": [
       "<matplotlib.figure.Figure at 0x10dd04050>"
      ]
     },
     "metadata": {},
     "output_type": "display_data"
    }
   ],
   "source": [
    "def sarsa():\n",
    "    sarsa_avg_rewards = []\n",
    "    env = gym.make('CartPole-v1')\n",
    "    np.random.seed(123)\n",
    "    env.seed(123)\n",
    "    agent = SARSAAgent()\n",
    "    scores = deque(maxlen=100)\n",
    "\n",
    "    for epi in range(10000):\n",
    "        # Run each episode\n",
    "        state = env.reset()\n",
    "        total_reward = 0\n",
    "        for i in range(500):\n",
    "            action = agent.policy(state)\n",
    "            next_state, reward, done, info = env.step(action)\n",
    "            # update\n",
    "            agent.update(state, action, next_state, reward)\n",
    "\n",
    "            state = next_state\n",
    "            total_reward += 1\n",
    "            if done:\n",
    "                break\n",
    "\n",
    "        # for plot\n",
    "        scores.append(total_reward)\n",
    "        sarsa_avg_rewards.append(np.mean(scores))\n",
    "        \n",
    "        if (epi%1000==0):\n",
    "            print(\"Episode:\" + str(epi) +\" | Avg Reward: \" + str(sarsa_avg_rewards[epi]))\n",
    "            \n",
    "        agent.update_epsilon(epi)\n",
    "        agent.update_alpha(epi)\n",
    "\n",
    "    return sarsa_avg_rewards\n",
    "\n",
    "# plot\n",
    "sarsa_avg_rewards = sarsa()\n",
    "plt.plot(range(10000),sarsa_avg_rewards)\n",
    "plt.plot(range(10000),qlearning_avg_rewards)\n",
    "plt.plot(range(10000),mc_avg_rewards)\n",
    "plt.legend([\"SARSA\",'QLearning', \"Monte Carlo\"])\n",
    "plt.show()"
   ]
  },
  {
   "cell_type": "markdown",
   "metadata": {},
   "source": [
    "##### Summary on Value-based Approach\n",
    "\n",
    "- Dynamic programming for *known* model (MDP)\n",
    "- Monte-Carlo and Temporal Difference for *unknown model*\n",
    "- MC properties\n",
    "    - Learn from complete episodes\n",
    "    - No bootstrapping (E.g. The value is updated using a final reward)\n",
    "    - High variance, zero bias\n",
    "- TD properties:\n",
    "    - Learn from incomplete episodes\n",
    "    - Bootstrapping (E.g. The value is updated partly using an existing estimate)\n",
    "    - Low variance, high bias (Sensitive to initial value)\n"
   ]
  },
  {
   "cell_type": "markdown",
   "metadata": {},
   "source": [
    "### Policy-based Approach\n",
    "\n",
    "Policy-based approach focuses on directly optimizing a **parameterized** policy. The **parameterized** policy has the form $\\pi_\\theta (a|s) = P(a|s;\\textbf{$\\theta$})$, where $\\textbf{$\\theta$}$ is parameter vector of the policy.\n",
    "\n",
    "The objective of RL is maximizing the total discounted reward function:\n",
    "\n",
    "\\begin{align}\n",
    "J(\\pi_\\theta) = \\mathbb{E}\\bigg[\\sum\\limits_{t = 0}^\\infty {{\\gamma ^t}r({s_t},{a_t})}\\bigg].\n",
    "\\end{align}\n",
    "\n",
    "Policy gradient is one of the policy search approaches which use gradient descent to update the policy. \n",
    "\n",
    "\\begin{align}\n",
    "{{\\boldsymbol{\\mathrm{\\theta}}} _{k + 1}} = {{\\boldsymbol{\\mathrm{\\theta}}} _k} + \\alpha {\\nabla _{\\boldsymbol{\\mathrm{\\theta}}} }J(\\pi_\\boldsymbol{\\mathrm{\\theta}}),\n",
    "\\end{align}\n",
    "\n",
    "where $\\alpha$ denotes a learning rate and $k$ is the current update number. Policy gradient methods guarantee to converge to an optimum (local optimum). The main computation of a policy gradient methods is how to estimate the gradient ${\\nabla _{\\boldsymbol{\\mathrm{\\theta}}} }J(\\pi_\\boldsymbol{\\mathrm{\\theta}})$\n",
    "\n",
    "<img src=\"images/pg.png\" width=\"600\"/>\n",
    "\n",
    "##### Finite Difference Policy Gradient (FD)\n",
    "\n",
    "The first method is Finite Difference Policy Gradient. \n",
    "\n",
    "First, we create a **SigmoidAgent** that is paramerized by 4 parameters between -1 and 1. The network of **SigmoidAgent** is demonstrated as follows:\n",
    "\n",
    "<img src=\"images/sigmoid.png\"/>\n",
    "\n",
    "The output of networks ($probs$) is a value between 0 and 1.\n",
    "\n",
    "Some methods of SigmoidAgent.\n",
    "- The **sigmoid** function is as follow:\n",
    "\n",
    "\\begin{align}\n",
    "y(x) = \\frac{1}{(1+e^{-x})}\n",
    "\\end{align}\n",
    "\n",
    "- **policy**: receive a state and return an action. The output of network is used to determine which action the agent should take. \n",
    "    + $\\pi(a == 1) = probs$\n",
    "    + $\\pi(a == 0) = 1 - probs$"
   ]
  },
  {
   "cell_type": "code",
   "execution_count": 26,
   "metadata": {
    "collapsed": true
   },
   "outputs": [],
   "source": [
    "class SigmoidAgent:\n",
    "\n",
    "    def __init__(self):\n",
    "        self.thetas = np.random.rand(4) * 2 - 1\n",
    "\n",
    "    def sigmoid(self, state):\n",
    "        z = state.dot(self.thetas)\n",
    "        return 1 / (1 + np.exp(-z))\n",
    "\n",
    "    def policy(self, state):\n",
    "        probs = self.sigmoid(state)\n",
    "        return np.random.binomial(n=1, p=probs, size=1)[0]"
   ]
  },
  {
   "cell_type": "markdown",
   "metadata": {},
   "source": [
    "The detail of finite difference methods is as follows\n",
    "\n",
    "<img src=\"images/fd.png\" width=\"600\"/>"
   ]
  },
  {
   "cell_type": "code",
   "execution_count": 31,
   "metadata": {},
   "outputs": [
    {
     "name": "stderr",
     "output_type": "stream",
     "text": [
      "[2019-01-15 11:10:14,046] Making new env: CartPole-v1\n",
      "/anaconda/lib/python2.7/site-packages/ipykernel_launcher.py:8: RuntimeWarning: overflow encountered in exp\n",
      "  \n"
     ]
    },
    {
     "name": "stdout",
     "output_type": "stream",
     "text": [
      "Episode:0 | Avg Reward: 36.0\n",
      "Episode:1000 | Avg Reward: 10.74\n",
      "Episode:2000 | Avg Reward: 500.0\n",
      "Episode:3000 | Avg Reward: 183.57\n",
      "Episode:4000 | Avg Reward: 10.21\n"
     ]
    },
    {
     "data": {
      "image/png": "[encoded data removed]",
      "text/plain": [
       "<matplotlib.figure.Figure at 0x10a6f0d90>"
      ]
     },
     "metadata": {},
     "output_type": "display_data"
    }
   ],
   "source": [
    "def fd():\n",
    "    env = gym.make('CartPole-v1')\n",
    "    np.random.seed(123)\n",
    "    env.seed(123)\n",
    "    agent = SigmoidAgent()\n",
    "\n",
    "    # hyper parameters\n",
    "    learning_rate = 0.000000004\n",
    "    eps = 1e-7\n",
    "\n",
    "    fd_avg_rewards = []\n",
    "    scores = deque(maxlen=100)\n",
    "\n",
    "    grads = np.asarray(agent.thetas)\n",
    "    for epi in range(5000):\n",
    "        # For each parameter of policy\n",
    "        # Evaluate thetas\n",
    "        _,_,rewards = run_episode(env, agent)\n",
    "        J = np.sum(rewards)\n",
    "\n",
    "        cur_params = np.copy(agent.thetas)\n",
    "        for i in range(agent.thetas.shape[0]):\n",
    "            agent.thetas[i] = agent.thetas[i] + eps\n",
    "            _,_,rewards = run_episode(env, agent)\n",
    "            Jplus = np.sum(rewards)\n",
    "\n",
    "            grads[i] = (Jplus - J) / eps\n",
    "\n",
    "        agent.thetas = cur_params\n",
    "        # Weight update\n",
    "        agent.thetas += learning_rate * grads\n",
    "\n",
    "        # for plot\n",
    "        scores.append(J)\n",
    "        fd_avg_rewards.append(np.mean(scores))\n",
    "        if (epi%1000==0):\n",
    "            print(\"Episode:\" + str(epi) +\" | Avg Reward: \" + str(fd_avg_rewards[epi]))\n",
    "    \n",
    "    return fd_avg_rewards\n",
    "\n",
    "# plot\n",
    "fd_avg_rewards = fd()\n",
    "plt.plot(range(5000),fd_avg_rewards[0:5000])\n",
    "plt.plot(range(5000),sarsa_avg_rewards[0:5000])\n",
    "plt.plot(range(5000),qlearning_avg_rewards[0:5000])\n",
    "plt.plot(range(5000),mc_avg_rewards[0:5000])\n",
    "plt.legend([\"FD\",\"SARSA\",'QLearning', \"Monte Carlo\"])\n",
    "plt.show()"
   ]
  },
  {
   "cell_type": "markdown",
   "metadata": {},
   "source": [
    "- In Cart-Pole, we luckily obtain the obtimal policy. We should stop training until 1500 episodes\n",
    "- The computation time depends on the number of parameters of the policy.\n",
    "\n",
    "Advantages:\n",
    "- Easy to implement, require very little skill\n",
    "Disadvantages:\n",
    "- Slow (Because we need to get a lot of episodes)"
   ]
  },
  {
   "cell_type": "markdown",
   "metadata": {},
   "source": [
    "##### REINFORCE (Monte-Carlo policy gradient)\n",
    "\n",
    "By using likelihood ratio method, we can get the final estimation of policy gradient as follows (the details can be read at [Link](http://tuyenple.com/projects/rkhs/manuscript.pdf])): \n",
    "\n",
    "\\begin{align}\n",
    "{\\nabla _{\\boldsymbol{\\mathrm{\\theta}}} }J(\\pi_\\boldsymbol{\\mathrm{\\theta}}) = \\mathop{\\mathbb{E}} \\big[ \\nabla _{\\boldsymbol{\\mathrm{\\theta}}}\\log \\pi (s,a) R\\big],\n",
    "\\end{align}\n",
    "\n",
    "where $\\nabla _{\\boldsymbol{\\mathrm{\\theta}}}\\log \\pi (s,a)$ is called **score function** and $R$ is total discounted reward of the episode.\n",
    "\n",
    "The **score function** can have analytic form by using Softmax policy, Sigmoid policy, or Gaussian policy.\n",
    "\n",
    "Go back to the cart-pole problem where we use a sigmoid policy. So, the form of **score function** is as follows:\n",
    "\n",
    "\\begin{align}\n",
    "\\nabla _{\\boldsymbol{\\mathrm{\\theta}}}\\log \\pi (s,a) = \\Big[(1 - a) * -\\pi (s,a) + a * (1 - \\pi(s,a))\\Big] * \\vec{s}\n",
    "\\end{align}\n",
    "\n",
    "Intuitively,\n",
    "- When action is 0: $\\nabla _{\\boldsymbol{\\mathrm{\\theta}}}\\log \\pi (s,a) = -\\pi (s,a) * \\vec{s}$\n",
    "- When action is 1: $\\nabla _{\\boldsymbol{\\mathrm{\\theta}}}\\log \\pi (s,a) = (1 - \\pi(s,a)) * \\vec{s}$\n",
    "\n",
    "The REINFORCE algorithm is as follows:\n",
    "1. For each iteration\n",
    "    1. Collect the episode (line 16)\n",
    "    2. Calculate total discounted rewards R(line 17)\n",
    "    3. Calculate score function as the formula above. (line 19)\n",
    "    4. Get the policy gradient: $grads = score\\_function * R$ (line 20)\n",
    "    5. Update the parameters using policy gradient with learning rate is $\\alpha$ (line 25)"
   ]
  },
  {
   "cell_type": "code",
   "execution_count": 33,
   "metadata": {},
   "outputs": [
    {
     "name": "stderr",
     "output_type": "stream",
     "text": [
      "[2019-01-15 11:13:20,782] Making new env: CartPole-v1\n"
     ]
    },
    {
     "name": "stdout",
     "output_type": "stream",
     "text": [
      "Episode:0 | Avg Reward: 36.0\n",
      "Episode:1000 | Avg Reward: 344.71\n",
      "Episode:2000 | Avg Reward: 313.05\n",
      "Episode:3000 | Avg Reward: 360.86\n",
      "Episode:4000 | Avg Reward: 500.0\n"
     ]
    },
    {
     "data": {
      "image/png": "[encoded data removed]",
      "text/plain": [
       "<matplotlib.figure.Figure at 0x10e15a590>"
      ]
     },
     "metadata": {},
     "output_type": "display_data"
    }
   ],
   "source": [
    "def reinforce():\n",
    "    env = gym.make('CartPole-v1')\n",
    "    np.random.seed(123)\n",
    "    env.seed(123)\n",
    "    agent = SigmoidAgent()\n",
    "\n",
    "    # hyper parameters\n",
    "    learning_rate = 0.001\n",
    "    gamma = 0.99\n",
    "\n",
    "    reinforce_avg_rewards = []\n",
    "    scores = deque(maxlen=100)\n",
    "\n",
    "    for e in range(5000):\n",
    "\n",
    "        states, actions, rewards = run_episode(env, agent)\n",
    "        discounted_reward = get_discounted_rewards(rewards, gamma)\n",
    "\n",
    "        probs = agent.sigmoid(states)\n",
    "        grads = discounted_reward * \\\n",
    "                (-(1. - actions) *\n",
    "                 probs + (actions * (1. - probs) )) * \\\n",
    "                states.T\n",
    "\n",
    "        agent.thetas += learning_rate * np.sum(grads, axis=1)\n",
    "\n",
    "        # Append for logging and print\n",
    "        scores.append(np.sum(rewards))\n",
    "        reinforce_avg_rewards.append(np.mean(scores))\n",
    "        if (e%1000==0):\n",
    "            print(\"Episode:\" + str(e) +\" | Avg Reward: \" + str(reinforce_avg_rewards[e]))\n",
    "            \n",
    "    return reinforce_avg_rewards\n",
    "\n",
    "# plot\n",
    "reinforce_avg_rewards = reinforce()\n",
    "plt.plot(range(5000),fd_avg_rewards)\n",
    "plt.plot(range(5000),reinforce_avg_rewards)\n",
    "plt.legend([\"FD\",'REINFORCE'])\n",
    "plt.show()"
   ]
  },
  {
   "cell_type": "markdown",
   "metadata": {
    "collapsed": true
   },
   "source": [
    "Advantages:\n",
    "- Guaranteed to achieve the convergence to a optimal policy\n",
    "- Fast (in theory)\n",
    "REINFORCE properties (similar to MC method):\n",
    "- Learn from complete episodes\n",
    "- High variance\n",
    "\n",
    "In the next part of this lecture, we can replace R with Q action-value function, V value function, or Advantage function to reduce the variance (increase bias)"
   ]
  },
  {
   "cell_type": "markdown",
   "metadata": {},
   "source": [
    "##### Natural Policy Gradient (NPG)\n",
    "\n",
    "NPG adds more constraint on the policy gradient. Particularly, to improve training stability, NPG avoids parameter updates that change the policy too much at one step. To measure the closeness between the current policy and the updated policy, it use Kullback-Leibler divergence $d_{KL}(\\pi_{\\theta} || \\pi_{\\theta+\\Delta\\theta})$. Kullback-Leibler divergence $d_{KL}(\\pi_{\\theta} || \\pi_{\\theta+\\Delta\\theta})$ can be approximated by its second order Taylor expansion, i.e., by\n",
    "\n",
    "\\begin{align}\n",
    "d_{KL}(\\pi_{\\theta} || \\pi_{\\theta+\\Delta\\theta}) \\approx \\Delta\\theta^T F_\\theta \\Delta\\theta,\n",
    "\\end{align}\n",
    "\n",
    "where $F_\\theta$ is **Fisher Information Matrix** (Hessian of log likelihood):\n",
    "\n",
    "\\begin{align}\n",
    "F_\\theta = <\\nabla\\log\\pi_\\theta, \\nabla\\log\\pi_\\theta ^T>\n",
    "\\end{align}\n",
    "\n",
    "By restrict the change of our policy to $\\Delta\\theta^T F_\\theta \\Delta\\theta = \\epsilon,$ where $\\epsilon$ is very small. We can get the approximate of natural policy gradient:\n",
    "\n",
    "\\begin{align}\n",
    "\\Delta\\theta \\approx F_\\theta^{−1}\\nabla_\\theta J,\n",
    "\\end{align}\n",
    "\n",
    "where $\\nabla_\\theta J$ is policy gradient from REINFORCE. For more detail about natural policy gradient, we can read [here](https://medium.com/@jonathan_hui/rl-natural-policy-gradient-actor-critic-using-kronecker-factored-trust-region-acktr-58f3798a4a93)\n",
    "\n",
    "That is enough for theory. Now, we go back to the code. The different with REINFORCE is that we need to calculate the inverse of **Fisher Information Matrix**.\n",
    "\n",
    "We use function **findTheBestLearningRateUsingLineSearch** to find the best learning rate $\\alpha$ (my experience). The function return the best learning rate that give the best performance."
   ]
  },
  {
   "cell_type": "code",
   "execution_count": 57,
   "metadata": {
    "collapsed": true
   },
   "outputs": [],
   "source": [
    "def findTheBestLearningRateUsingLineSearch(grads, env, agent):\n",
    "    best_alpha = 0.0\n",
    "    best_value = -1000000000000\n",
    "    numEval = 40\n",
    "    backup_params = np.copy(agent.thetas)\n",
    "    for grid in range(numEval):\n",
    "        alpha_new = 0.01 * (((1.1)**(grid-1))-1) + 0.0000001;\n",
    "\n",
    "        theta_new = backup_params + alpha_new * grads;\n",
    "        agent.thetas = theta_new\n",
    "\n",
    "        states, actions, rewards = run_episode(env, agent)\n",
    "        if (np.sum(rewards) > best_value):\n",
    "            best_value = np.sum(rewards);\n",
    "            best_alpha = alpha_new;\n",
    "\n",
    "    agent.thetas = backup_params\n",
    "    return best_alpha"
   ]
  },
  {
   "cell_type": "markdown",
   "metadata": {},
   "source": [
    "**npg** almost same with REINFORCE. The differences are that:\n",
    "- We need to calculate the Fisher Information Matrix (line 20)\n",
    "- We get the natural policy gradient at line 24 by: $\\Delta\\theta \\approx F_\\theta^{−1}\\nabla_\\theta J$,\n",
    "- We use **findTheBestLearningRateUsingLineSearch** to find the best learning rate $\\alpha$ (line 26)"
   ]
  },
  {
   "cell_type": "code",
   "execution_count": 34,
   "metadata": {},
   "outputs": [
    {
     "name": "stderr",
     "output_type": "stream",
     "text": [
      "[2019-01-15 11:15:01,627] Making new env: CartPole-v1\n"
     ]
    },
    {
     "name": "stdout",
     "output_type": "stream",
     "text": [
      "Episode:0 | Avg Reward: 36.0\n",
      "Episode:250 | Avg Reward: 459.15\n",
      "Episode:500 | Avg Reward: 488.35\n",
      "Episode:750 | Avg Reward: 383.0\n",
      "Episode:1000 | Avg Reward: 460.47\n",
      "Episode:1250 | Avg Reward: 406.01\n",
      "Episode:1500 | Avg Reward: 461.47\n",
      "Episode:1750 | Avg Reward: 450.06\n"
     ]
    },
    {
     "data": {
      "image/png": "[encoded data removed]",
      "text/plain": [
       "<matplotlib.figure.Figure at 0x10a6f0a10>"
      ]
     },
     "metadata": {},
     "output_type": "display_data"
    }
   ],
   "source": [
    "def npg():\n",
    "    env = gym.make('CartPole-v1')\n",
    "    np.random.seed(123)\n",
    "    env.seed(123)\n",
    "    agent = SigmoidAgent()\n",
    "\n",
    "    # hyper parameters\n",
    "    gamma = 0.99\n",
    "\n",
    "    npg_avg_rewards = []\n",
    "    scores = deque(maxlen=100)\n",
    "\n",
    "    for e in range(2000):\n",
    "\n",
    "        states, actions, rewards = run_episode(env, agent)\n",
    "        discounted_reward = get_discounted_rewards(rewards, gamma)\n",
    "\n",
    "        probs = agent.sigmoid(states)\n",
    "        dLogPi = (-(1. - actions) * probs + (actions * (1. - probs) )) * states.T\n",
    "        sumDLogPi = np.sum(dLogPi, axis=1)\n",
    "        F = np.dot(sumDLogPi.reshape(-1,1), sumDLogPi.reshape(1,-1))\n",
    "\n",
    "        vanilla_grads = sumDLogPi * discounted_reward[0]\n",
    "        natural_grads = np.dot(np.linalg.pinv(F),vanilla_grads)\n",
    "\n",
    "        learning_rate = findTheBestLearningRateUsingLineSearch(natural_grads, env, agent)\n",
    "        agent.thetas += learning_rate * natural_grads\n",
    "\n",
    "        # Append for logging and print\n",
    "        scores.append(np.sum(rewards))\n",
    "        npg_avg_rewards.append(np.mean(scores))\n",
    "        if (e%250==0):\n",
    "            print(\"Episode:\" + str(e) +\" | Avg Reward: \" + str(npg_avg_rewards[e]))\n",
    "\n",
    "    return npg_avg_rewards\n",
    "\n",
    "# plot\n",
    "npg_avg_rewards = npg()\n",
    "plt.plot(range(2000),npg_avg_rewards[0:2000])\n",
    "plt.plot(range(2000),fd_avg_rewards[0:2000])\n",
    "plt.plot(range(2000),reinforce_avg_rewards[0:2000])\n",
    "plt.legend([\"NPG\",\"FD\",'REINFORCE'])\n",
    "plt.show()"
   ]
  },
  {
   "cell_type": "markdown",
   "metadata": {
    "collapsed": true
   },
   "source": [
    "**Advantage**:\n",
    "- It guarantees policy improvement\n",
    "\n",
    "**Disadvantage**\n",
    "- Calculate $F$ and $F^{-1}$ are expensive (depend on number of state features)\n",
    "\n",
    "**TRPO** (Trust Region Policy Optimization) and **PPO** (Proximal Policy Optimization) are improvements of Natural Policy Gradient\n",
    "\n",
    "### Actor Critic Approach\n",
    "\n",
    "Actor-critic approach proposed a framework which mixes between value-based approach and policy-based approach. Particularly, the framework is divided into two parts: actor part and critic part. \n",
    "- The actor part receives a state from an environment and uses a policy to estimate an action. \n",
    "- The critic part receives the state and the reward from the environment to evaluate how good at that state. \n",
    "\n",
    "The policy of actor part is updated during the learning process based on the TD error from the critic part.\n",
    "\n",
    "<img src=\"images/ac.png\"/>\n",
    "\n",
    "REINFORCE becomes Actor-Critic when:\n",
    "- Replace R (total discounted rewards) with an **approximation** of action-value function Q, value function V or advantage function A.\n",
    "\n",
    "##### Value Function Approximation\n",
    "\n",
    "Why do we need to use function approximation:\n",
    "- There are too many states and/or actions to store in memory\n",
    "- It is too slow to learn the value of each state individually\n",
    "\n",
    "How to make **function approximation**\n",
    "- We approximate the function (Q, or V) using function that is parameterized by parameter $w$\n",
    "\n",
    "\\begin{align}\n",
    "Q(s,a) \\approx Q_w(s,a)\n",
    "\\end{align}\n",
    "\n",
    "\\begin{align}\n",
    "V(s) \\approx V_w(s)\n",
    "\\end{align}\n",
    "\n",
    "How to represent **function approximation**:\n",
    "- Tabular (E.g. the Q-table that we use in MC or TD previous section). This representation is hard to deal with highly continous state space \n",
    "- Linear function (E.g. $V(s) = w_1*x_1 + w_2*x_2 + \\ldots$). This representation cannot deal with highly non-linear problem.\n",
    "- Deep neural networks. By using deep neural networks, reinforcement learning become **deep** reinforcement learning\n",
    "\n",
    "The example below use a linear approximation of value function:\n",
    "\n",
    "\\begin{align}\n",
    "V(s) \\approx V_w(s) = w_1*s_1 + w_2*s_2 + w_3*s_3 + w_4*s_4\n",
    "\\end{align}\n",
    "\n",
    "We make **ACAgent** with some features:\n",
    "- The parameters of policy is $\\theta$\n",
    "- The policy of value function is $w$\n",
    "- We also use the sigmoid policy\n",
    "- **get_dW**: return the gradient of $w$\n",
    "- **get_dTheta**: return the gradient of $\\theta$"
   ]
  },
  {
   "cell_type": "code",
   "execution_count": 63,
   "metadata": {
    "collapsed": true
   },
   "outputs": [],
   "source": [
    "class ACAgent:\n",
    "\n",
    "    def __init__(self):\n",
    "        # actor params\n",
    "        self.thetas = np.random.rand(4) * 2 - 1\n",
    "        # critic params\n",
    "        self.Ws = np.random.rand(4) * 2 - 1\n",
    "\n",
    "    def sigmoid(self, state):\n",
    "        z = state.dot(self.thetas)\n",
    "        return 1 / (1 + np.exp(-z))\n",
    "\n",
    "    def policy(self, state):\n",
    "        probs = self.sigmoid(state)\n",
    "        return np.random.binomial(n=1, p=probs, size=1)[0]\n",
    "\n",
    "    def get_dW(self, rewards, states, gamma):\n",
    "        approximated_V = self.get_V(states)\n",
    "        discounted_rewards = get_discounted_rewards(rewards, gamma)\n",
    "        grads = ((discounted_rewards - approximated_V) * states.T).sum(axis=1)\n",
    "\n",
    "        return grads\n",
    "\n",
    "    def get_dTheta(self, states, actions, adv):\n",
    "        probs = self.sigmoid(states)\n",
    "        grads = adv * \\\n",
    "                (-(1. - actions) *\n",
    "                 probs + (actions * (1. - probs))) * \\\n",
    "                states.T\n",
    "\n",
    "        return grads\n",
    "\n",
    "    def get_V(self, state):\n",
    "        return np.dot(state, self.Ws)"
   ]
  },
  {
   "cell_type": "markdown",
   "metadata": {},
   "source": [
    "Here, we use **Monte-Carlo with Value Function Approximation** to make the algorithm. Particularly,\n",
    "\n",
    "1. Create a **ACAgent** agent.\n",
    "2. Defind learning rate for actor and critic (line 8 and line 9)\n",
    "3. For each iteration (line 15)\n",
    "    1. We collect 1 episode using **ACAgent** agent\n",
    "    2. Update the critic using the collected episode: $dW = dW + critic\\_learning\\_rate * (G_t - V_w(s_t)) * \\vec{s}$, where G is discounted reward at state $s_t$ and $V_w$ is approximation of V function at state $s_t$.\n",
    "    3. Update the actor simmilar to REINFORCE but replacing R with $(G_t - V_w(s_t))$\n"
   ]
  },
  {
   "cell_type": "code",
   "execution_count": 64,
   "metadata": {},
   "outputs": [
    {
     "name": "stderr",
     "output_type": "stream",
     "text": [
      "[2019-01-16 12:03:13,504] Making new env: CartPole-v1\n"
     ]
    },
    {
     "name": "stdout",
     "output_type": "stream",
     "text": [
      "Episode:0 | Avg Reward: 52.0\n",
      "Episode:250 | Avg Reward: 63.07\n",
      "Episode:500 | Avg Reward: 214.13\n",
      "Episode:750 | Avg Reward: 287.81\n",
      "Episode:1000 | Avg Reward: 359.52\n",
      "Episode:1250 | Avg Reward: 259.68\n",
      "Episode:1500 | Avg Reward: 382.44\n",
      "Episode:1750 | Avg Reward: 190.16\n",
      "Episode:2000 | Avg Reward: 460.67\n",
      "Episode:2250 | Avg Reward: 467.12\n",
      "Episode:2500 | Avg Reward: 397.27\n",
      "Episode:2750 | Avg Reward: 308.62\n",
      "Episode:3000 | Avg Reward: 348.83\n",
      "Episode:3250 | Avg Reward: 500.0\n",
      "Episode:3500 | Avg Reward: 486.42\n",
      "Episode:3750 | Avg Reward: 498.21\n"
     ]
    },
    {
     "data": {
      "image/png": "[encoded data removed]",
      "text/plain": [
       "<matplotlib.figure.Figure at 0x10a88f810>"
      ]
     },
     "metadata": {},
     "output_type": "display_data"
    }
   ],
   "source": [
    "def actor_critic():\n",
    "    env = gym.make('CartPole-v1')\n",
    "    np.random.seed(123)\n",
    "    env.seed(123)\n",
    "    agent = ACAgent()\n",
    "\n",
    "    # hyper parameters\n",
    "    actor_learning_rate = 0.001\n",
    "    critic_learning_rate = 1.e-5\n",
    "    gamma = 0.99\n",
    "\n",
    "    ac_avg_rewards = []\n",
    "    scores = deque(maxlen=100)\n",
    "\n",
    "    for e in range(4000):\n",
    "\n",
    "        states, actions, rewards = run_episode(env, agent)\n",
    "\n",
    "        # Critic update\n",
    "        dW = agent.get_dW(rewards, states, gamma)\n",
    "        agent.Ws += critic_learning_rate * dW\n",
    "\n",
    "        # Actor update\n",
    "        adv = get_discounted_rewards(rewards, gamma) - agent.get_V(states)\n",
    "        dTheta = agent.get_dTheta(states, actions, adv)\n",
    "\n",
    "        agent.thetas += actor_learning_rate * np.sum(dTheta, axis=1)\n",
    "\n",
    "        # Append for logging and print\n",
    "        scores.append(np.sum(rewards))\n",
    "        ac_avg_rewards.append(np.mean(scores))\n",
    "        if (e%250==0):\n",
    "            print(\"Episode:\" + str(e) +\" | Avg Reward: \" + str(ac_avg_rewards[e]))\n",
    "    \n",
    "    return ac_avg_rewards\n",
    "\n",
    "# plot\n",
    "ac_avg_rewards = actor_critic()\n",
    "plt.plot(range(2000),ac_avg_rewards[0:2000])\n",
    "plt.plot(range(2000),reinforce_avg_rewards[0:2000])\n",
    "plt.plot(range(2000),npg_avg_rewards[0:2000])\n",
    "plt.legend([\"AC\",'REINFORCE',\"NPG\"])\n",
    "plt.show()"
   ]
  },
  {
   "cell_type": "markdown",
   "metadata": {},
   "source": [
    "# Deep Reinforcement Learning?\n",
    "\n",
    "### From Q-Learning to DQN\n",
    "\n",
    "As I mentioned, in traditional Q-Learning, we use Q-table to approximate the Q function and this representation is difficult to represent highly non-linear problem and highly countinous state and action space.\n",
    "\n",
    "<img src=\"images/nn.png\"/>\n",
    "\n",
    "DQN use deep neural networks to represent the Q-Function. In addition, DQN uses two techniques to improve the stable of algorithm:\n",
    "1. **Target Q network**: DQN used an iterative update that adjusts the ${\\cal Q}$ values towards target ${\\cal Q}$ values that are only periodically updated, thereby reducing correlations with the target. In the practical implementation, target values are generated by a separate neural network, called target ${\\cal Q}$ network, which is a copy of the Q network. The target ${\\cal Q}$ network is periodically updated and is decoupled with the updating of ${\\cal Q}$ network.\n",
    "2. **Experience Replay**: DQN uses a biologically inspired mechanism termed **experience replay** that randomizes over the data, thereby removing correlations in the observation sequence and smoothing over changes in the data distribution\n",
    "\n",
    "In the examples below, I use tensorflow to interact with deep neural networks. Import **tensorflow** and **keras**:"
   ]
  },
  {
   "cell_type": "code",
   "execution_count": 1,
   "metadata": {},
   "outputs": [
    {
     "name": "stderr",
     "output_type": "stream",
     "text": [
      "/anaconda/lib/python2.7/site-packages/h5py/__init__.py:34: FutureWarning: Conversion of the second argument of issubdtype from `float` to `np.floating` is deprecated. In future, it will be treated as `np.float64 == np.dtype(float).type`.\n",
      "  from ._conv import register_converters as _register_converters\n"
     ]
    }
   ],
   "source": [
    "import tensorflow as tf\n",
    "from tensorflow import keras"
   ]
  },
  {
   "cell_type": "markdown",
   "metadata": {},
   "source": [
    "Make a **DQNAgent** class with some feature:\n",
    "- It have a replay memory that stores sample data for later use (line 18)\n",
    "- It have two neural networks: main Q-network (self.model) and target Q-network (self.target_model)\n",
    "- The neural network (from line 28 to line 40):\n",
    "    * Input layer is state\n",
    "    * Has two hidden layer with 5 hidden units for each. We use ReLU activation function to remove \n",
    "    * Output layer is a *tanh* value\n",
    "- The Q-network:\n",
    "    * Use Adam optimizer\n",
    "    * Use mean squared error loss function (mse)\n",
    "- The **policy** is a $\\epsilon$-greedy Q.\n",
    "- **update_target_model**: copy parameters from main Q-network to target Q-network. This is called \"hard copy\".\n",
    "- **append_sample**: store sample to experience replay\n",
    "- **update** function:\n",
    "    * Random 1 mini-batch of sample from **experience replay**\n",
    "    * Calculate the target value: $y_{DQN} = r + \\gamma * \\max\\hat{Q}(s',a')$ (line 82~87)\n",
    "    * Fit $y_{DQN}$ to the network to optimize the parameters (line 90)"
   ]
  },
  {
   "cell_type": "code",
   "execution_count": 7,
   "metadata": {
    "collapsed": true
   },
   "outputs": [],
   "source": [
    "class DQNAgent:\n",
    "    def __init__(self, state_size, action_size):\n",
    "\n",
    "        # get size of state and action\n",
    "        self.state_size = state_size\n",
    "        self.action_size = action_size\n",
    "\n",
    "        # Hyperparameters\n",
    "        self.discount_factor = 0.99\n",
    "        self.learning_rate = 0.001\n",
    "        self.eps = 1.0\n",
    "        self.eps_decay = 0.999\n",
    "        self.eps_min = 0.01\n",
    "        self.batch_size = 64\n",
    "        self.train_start = 1000\n",
    "\n",
    "        # create replay memory using deque\n",
    "        self.memory = deque(maxlen=10000)\n",
    "\n",
    "        # create main model and target model\n",
    "        self.model = self.build_model()\n",
    "        self.target_model = self.build_model()\n",
    "\n",
    "        # initialize target model\n",
    "        self.update_target_model()\n",
    "\n",
    "    # approximate Q function using Neural Network\n",
    "    def build_model(self):\n",
    "\n",
    "        model = keras.models.Sequential()\n",
    "        model.add(keras.layers.Dense(units=5,\n",
    "                                     input_dim=self.state_size,\n",
    "                                     activation='relu'))\n",
    "        model.add(keras.layers.Dense(units=5,\n",
    "                                     activation='relu'))\n",
    "        model.add(keras.layers.Dense(self.action_size,\n",
    "                                     activation='linear'))\n",
    "        model.compile(loss='mse',\n",
    "                      optimizer=keras.optimizers.Adam(lr=self.learning_rate))\n",
    "        return model\n",
    "\n",
    "    # after some time interval update the target model to be same with model\n",
    "    def update_target_model(self):\n",
    "        self.target_model.set_weights(self.model.get_weights())\n",
    "\n",
    "    # get action from model using epsilon-greedy policy\n",
    "    def policy(self, state):\n",
    "        if np.random.rand() <= self.eps:\n",
    "            return np.random.randint(0, self.action_size)\n",
    "        else:\n",
    "            q_value = self.model.predict(state)\n",
    "            return np.argmax(q_value[0])\n",
    "\n",
    "    # save sample <s,a,r,s',done> to the replay memory\n",
    "    def append_sample(self, state, action, reward, next_state, done):\n",
    "        self.memory.append((state, action, reward, next_state, done))\n",
    "        if self.eps > self.eps_min:\n",
    "            self.eps *= self.eps_decay\n",
    "\n",
    "    # pick samples randomly from replay memory (with batch_size)\n",
    "    def train_model(self):\n",
    "        if len(self.memory) < self.train_start:\n",
    "            return\n",
    "\n",
    "        batch_size = min(self.batch_size, len(self.memory))\n",
    "        mini_batch = random.sample(self.memory, batch_size)\n",
    "\n",
    "        states = np.zeros((batch_size, self.state_size))\n",
    "        next_states = np.zeros((batch_size, self.state_size))\n",
    "        action, reward, done = [], [], []\n",
    "\n",
    "        for i in range(self.batch_size):\n",
    "            states[i] = mini_batch[i][0]\n",
    "            action.append(mini_batch[i][1])\n",
    "            reward.append(mini_batch[i][2])\n",
    "            next_states[i] = mini_batch[i][3]\n",
    "            done.append(mini_batch[i][4])\n",
    "\n",
    "        target = self.model.predict(states)\n",
    "        target_val = self.target_model.predict(next_states)\n",
    "\n",
    "        for i in range(self.batch_size):\n",
    "            # Q Learning: get maximum Q value at s' from target model\n",
    "            if done[i]:\n",
    "                target[i][action[i]] = reward[i]\n",
    "            else:\n",
    "                target[i][action[i]] = reward[i] + self.discount_factor * (np.amax(target_val[i]))\n",
    "\n",
    "        # and do the model fit!\n",
    "        self.model.fit(states, target,\n",
    "                       batch_size=self.batch_size,\n",
    "                       epochs=1,\n",
    "                       verbose=0)"
   ]
  },
  {
   "cell_type": "markdown",
   "metadata": {},
   "source": [
    "This is the main boby of DQN algorithm. It runs as follows:\n",
    "1. For each iteration:\n",
    "    1. For each step in episode\n",
    "        * Collect a data sample (state, action, reward, next state)\n",
    "        * Store to the experience replay\n",
    "        * Training the main Q-network using data samples from experience replay\n",
    "    2. Update target Q-network"
   ]
  },
  {
   "cell_type": "code",
   "execution_count": 8,
   "metadata": {},
   "outputs": [
    {
     "name": "stderr",
     "output_type": "stream",
     "text": [
      "[2019-01-16 12:28:23,010] Making new env: CartPole-v1\n"
     ]
    },
    {
     "name": "stdout",
     "output_type": "stream",
     "text": [
      "Episode:0 | Avg Reward: 42.0\n",
      "Episode:250 | Avg Reward: 10.1\n",
      "Episode:500 | Avg Reward: 22.37\n",
      "Episode:750 | Avg Reward: 41.06\n",
      "Episode:1000 | Avg Reward: 334.38\n",
      "Episode:1250 | Avg Reward: 251.43\n",
      "Episode:1500 | Avg Reward: 453.18\n",
      "Episode:1750 | Avg Reward: 290.81\n"
     ]
    },
    {
     "data": {
      "image/png": "[encoded data removed]",
      "text/plain": [
       "<matplotlib.figure.Figure at 0x1243d4dd0>"
      ]
     },
     "metadata": {},
     "output_type": "display_data"
    }
   ],
   "source": [
    "def dqn():\n",
    "    env = gym.make('CartPole-v1')\n",
    "    np.random.seed(123)\n",
    "    env.seed(123)\n",
    "    random.seed(123)\n",
    "    state_size = env.observation_space.shape[0]\n",
    "    action_size = env.action_space.n\n",
    "    agent = DQNAgent(state_size, action_size)\n",
    "\n",
    "    dqn_avg_rewards = []\n",
    "    scores = deque(maxlen=100)\n",
    "\n",
    "    for e in range(2000):\n",
    "        done = False\n",
    "        score = 0\n",
    "        state = env.reset()\n",
    "        state = np.reshape(state, [1, state_size])\n",
    "        while not done:\n",
    "            # get action for the current state and go one step in environment\n",
    "            action = agent.policy(state)\n",
    "            next_state, reward, done, info = env.step(action)\n",
    "            next_state = np.reshape(next_state, [1, state_size])\n",
    "\n",
    "            # save the sample <s, a, r, s', done> to the replay memory\n",
    "            agent.append_sample(state, action, reward, next_state, done)\n",
    "            # every time step do the training\n",
    "            agent.train_model()\n",
    "\n",
    "            score += reward\n",
    "            state = next_state\n",
    "\n",
    "            if done:\n",
    "                # every episode update the target model to be same with model\n",
    "                agent.update_target_model()\n",
    "\n",
    "                scores.append(score)\n",
    "                dqn_avg_rewards.append(np.mean(scores))\n",
    "                if (e%250==0):\n",
    "                    print(\"Episode:\" + str(e) +\" | Avg Reward: \" + str(dqn_avg_rewards[e]))\n",
    "    \n",
    "    return dqn_avg_rewards\n",
    "                    \n",
    "# plot\n",
    "dqn_avg_rewards = dqn()\n",
    "plt.plot(range(2000),dqn_avg_rewards[0:2000])\n",
    "# plt.plot(range(2000),reinforce_avg_rewards[0:2000])\n",
    "plt.legend([\"DQN\"])\n",
    "plt.show()"
   ]
  },
  {
   "cell_type": "markdown",
   "metadata": {},
   "source": [
    "Training using deep neural network is slow.\n",
    "\n",
    "I don't have the time to tune the hyper parameters. \n",
    "\n",
    "So, the performance of DQN look like the figure above. \n",
    "\n",
    "The performance increases if we train more episodes."
   ]
  },
  {
   "cell_type": "markdown",
   "metadata": {},
   "source": [
    "### From Policy Gradient to Deep Policy Gradient\n",
    "\n",
    "Deep neural network can be used to represent the policy.\n",
    "\n",
    "<img src=\"images/dpg.png\"/>\n",
    "\n",
    "Make a **DPGAgent** class with some features:\n",
    "- It have a replay memory that stores sample data for later use (line 18)\n",
    "- It have two neural networks: main Q-network (self.model) and target Q-network (self.target_model)\n",
    "- The neural network (from line 28 to line 40):\n",
    "    * Input layer is state\n",
    "    * Has two hidden layer with 5 hidden units for each. We use ReLU activation function to remove \n",
    "    * Output layer is a *softmax* layer that predicts the probability of action 0 and action 1\n",
    "- The policy network:\n",
    "    * Use Adam optimizer\n",
    "    * Use cross entropy loss function\n",
    "- The **policy**:\n",
    "    * The agent take action based on the output of policy network.\n",
    "- **update** function: using sample from episode to update the policy network. The objective function is maximizing the total discounted reward."
   ]
  },
  {
   "cell_type": "code",
   "execution_count": 10,
   "metadata": {
    "collapsed": true
   },
   "outputs": [],
   "source": [
    "class DPGAgent:\n",
    "    def __init__(self, state_size, action_size):\n",
    "        # get size of state and action\n",
    "        self.state_size = state_size\n",
    "        self.action_size = action_size\n",
    "\n",
    "        # These are hyper parameters\n",
    "        self.discount_factor = 0.99\n",
    "        self.learning_rate = 0.001\n",
    "\n",
    "        # create model for policy network\n",
    "        self.model = self.build_model()\n",
    "\n",
    "        # lists for the states, actions and rewards\n",
    "        self.states, self.actions, self.rewards = [], [], []\n",
    "\n",
    "    # approximate policy using Neural Network\n",
    "    def build_model(self):\n",
    "        model = keras.models.Sequential()\n",
    "        model.add(keras.layers.Dense(units=5,\n",
    "                                     input_dim=self.state_size,\n",
    "                                     activation='relu'))\n",
    "        model.add(keras.layers.Dense(units=5,\n",
    "                                     activation='relu'))\n",
    "        model.add(keras.layers.Dense(self.action_size,\n",
    "                                     activation='softmax'))\n",
    "        model.summary()\n",
    "        model.compile(loss=\"categorical_crossentropy\",\n",
    "                      optimizer=keras.optimizers.Adam(lr=self.learning_rate))\n",
    "        return model\n",
    "\n",
    "    # Using the output of policy network, pick action stochastically\n",
    "    def policy(self, state):\n",
    "        policy = self.model.predict(state, batch_size=1).flatten()\n",
    "        return np.random.choice(self.action_size, 1, p=policy)[0]\n",
    "\n",
    "    # In Policy Gradient agent uses sample returns for evaluating policy\n",
    "    def discount_rewards(self, rewards):\n",
    "        discounted_rewards = np.zeros_like(rewards)\n",
    "        running_add = 0\n",
    "        for t in reversed(range(0, len(rewards))):\n",
    "            running_add = running_add * self.discount_factor + rewards[t]\n",
    "            discounted_rewards[t] = running_add\n",
    "        return discounted_rewards\n",
    "\n",
    "    # save <s, a ,r> of each step\n",
    "    def append_sample(self, state, action, reward):\n",
    "        self.states.append(state)\n",
    "        self.rewards.append(reward)\n",
    "        self.actions.append(action)\n",
    "\n",
    "    # update policy network every episode\n",
    "    def train_model(self):\n",
    "        episode_length = len(self.states)\n",
    "        discounted_rewards = self.discount_rewards(self.rewards)\n",
    "\n",
    "        update_inputs = np.zeros((episode_length, self.state_size))\n",
    "        advantages = np.zeros((episode_length, self.action_size))\n",
    "\n",
    "        for i in range(episode_length):\n",
    "            update_inputs[i] = self.states[i]\n",
    "            advantages[i][self.actions[i]] = discounted_rewards[i]\n",
    "\n",
    "        self.model.fit(update_inputs, advantages, epochs=1, verbose=0)\n",
    "        self.states, self.actions, self.rewards = [], [], []\n"
   ]
  },
  {
   "cell_type": "markdown",
   "metadata": {},
   "source": [
    "This is the main boby of Deep policy gradient algorithm. It runs as follows:\n",
    "1. For each iteration:\n",
    "    1. Collect data samples from episode\n",
    "    2. Update policy network using total discounted reward (Just maximizing the total discounted reward)"
   ]
  },
  {
   "cell_type": "code",
   "execution_count": 11,
   "metadata": {},
   "outputs": [
    {
     "name": "stderr",
     "output_type": "stream",
     "text": [
      "[2019-01-16 14:28:03,720] Making new env: CartPole-v1\n"
     ]
    },
    {
     "name": "stdout",
     "output_type": "stream",
     "text": [
      "_________________________________________________________________\n",
      "Layer (type)                 Output Shape              Param #   \n",
      "=================================================================\n",
      "dense_18 (Dense)             (None, 5)                 25        \n",
      "_________________________________________________________________\n",
      "dense_19 (Dense)             (None, 5)                 30        \n",
      "_________________________________________________________________\n",
      "dense_20 (Dense)             (None, 2)                 12        \n",
      "=================================================================\n",
      "Total params: 67\n",
      "Trainable params: 67\n",
      "Non-trainable params: 0\n",
      "_________________________________________________________________\n",
      "Episode:0 | Avg Reward: 55.0\n",
      "Episode:250 | Avg Reward: 31.0\n",
      "Episode:500 | Avg Reward: 42.04\n",
      "Episode:750 | Avg Reward: 69.9\n",
      "Episode:1000 | Avg Reward: 193.79\n",
      "Episode:1250 | Avg Reward: 238.51\n",
      "Episode:1500 | Avg Reward: 331.44\n",
      "Episode:1750 | Avg Reward: 417.39\n",
      "Episode:2000 | Avg Reward: 459.8\n",
      "Episode:2250 | Avg Reward: 497.93\n",
      "Episode:2500 | Avg Reward: 420.53\n",
      "Episode:2750 | Avg Reward: 471.04\n"
     ]
    },
    {
     "data": {
      "image/png": "[encoded data removed]",
      "text/plain": [
       "<matplotlib.figure.Figure at 0x1236a90d0>"
      ]
     },
     "metadata": {},
     "output_type": "display_data"
    }
   ],
   "source": [
    "def dpg():\n",
    "    env = gym.make('CartPole-v1')\n",
    "    np.random.seed(123)\n",
    "    env.seed(123)\n",
    "    random.seed(123)\n",
    "    tf.set_random_seed(123)\n",
    "    state_size = env.observation_space.shape[0]\n",
    "    action_size = env.action_space.n\n",
    "    agent = DPGAgent(state_size, action_size)\n",
    "\n",
    "    dpg_avg_rewards = []\n",
    "    scores = deque(maxlen=100)\n",
    "\n",
    "    for e in range(3000):\n",
    "        done = False\n",
    "        score = 0\n",
    "        state = env.reset()\n",
    "        state = np.reshape(state, [1, state_size])\n",
    "\n",
    "        while not done:\n",
    "            action = agent.policy(state)\n",
    "            next_state, reward, done, info = env.step(action)\n",
    "            next_state = np.reshape(next_state, [1, state_size])\n",
    "\n",
    "            # save the sample <s, a, r> to the memory\n",
    "            agent.append_sample(state, action, reward)\n",
    "\n",
    "            score += reward\n",
    "            state = next_state\n",
    "\n",
    "            if done:\n",
    "                agent.train_model()\n",
    "\n",
    "        scores.append(score)\n",
    "        dpg_avg_rewards.append(np.mean(scores))\n",
    "        if (e % 250 == 0):\n",
    "            print(\"Episode:\" + str(e) + \" | Avg Reward: \" + str(dpg_avg_rewards[e]))\n",
    "\n",
    "    return dpg_avg_rewards\n",
    "\n",
    "# plot\n",
    "dpg_avg_rewards = dpg()\n",
    "plt.plot(range(3000),dpg_avg_rewards[0:3000])\n",
    "# plt.plot(range(3000),reinforce_avg_rewards[0:3000])\n",
    "plt.legend([\"DPG\"])\n",
    "plt.show()"
   ]
  },
  {
   "cell_type": "markdown",
   "metadata": {},
   "source": [
    "### From Actor Critic to Deep Actor Critic\n",
    "\n",
    "In the Deep Actor Critic, we approximate both actor part and critic part using deep neural network. Particularly, in this example,\n",
    "1. Actor network:\n",
    "    * Input is state\n",
    "    * Output is softmax\n",
    "    * One hidden layer with 5 units\n",
    "2. Critic network:\n",
    "    * Input is state\n",
    "    * Output is V value\n",
    "3. Policy: softmax policy\n",
    "4. "
   ]
  },
  {
   "cell_type": "code",
   "execution_count": 17,
   "metadata": {
    "collapsed": true
   },
   "outputs": [],
   "source": [
    "class DACAgent:\n",
    "    def __init__(self, state_size, action_size):\n",
    "        # if you want to see Cartpole learning, then change to True\n",
    "        self.render = False\n",
    "        self.load_model = False\n",
    "        # get size of state and action\n",
    "        self.state_size = state_size\n",
    "        self.action_size = action_size\n",
    "        self.value_size = 1\n",
    "\n",
    "        # These are hyper parameters for the Policy Gradient\n",
    "        self.discount_factor = 0.99\n",
    "        self.actor_lr = 0.001\n",
    "        self.critic_lr = 0.005\n",
    "\n",
    "        # create model for policy network\n",
    "        self.actor = self.build_actor()\n",
    "        self.critic = self.build_critic()\n",
    "\n",
    "    # Actor network\n",
    "    def build_actor(self):\n",
    "        actor = keras.models.Sequential()\n",
    "        actor.add(keras.layers.Dense(units=5,\n",
    "                                     input_dim=self.state_size,\n",
    "                                     activation='relu'))\n",
    "        actor.add(keras.layers.Dense(self.action_size,\n",
    "                                     activation='softmax'))\n",
    "        actor.summary()\n",
    "        actor.compile(loss='categorical_crossentropy',\n",
    "                      optimizer=keras.optimizers.Adam(lr=self.critic_lr))\n",
    "        return actor\n",
    "\n",
    "    # Critic network\n",
    "    def build_critic(self):\n",
    "        critic = keras.models.Sequential()\n",
    "        critic.add(keras.layers.Dense(units=5,\n",
    "                                      input_dim=self.state_size,\n",
    "                                      activation='relu'))\n",
    "        critic.add(keras.layers.Dense(self.value_size,\n",
    "                                      activation='linear'))\n",
    "        critic.summary()\n",
    "        critic.compile(loss=\"mse\",\n",
    "                       optimizer=keras.optimizers.Adam(lr=self.critic_lr))\n",
    "        return critic\n",
    "\n",
    "    # using the output of policy network, pick action stochastically\n",
    "    def policy(self, state):\n",
    "        probs = self.actor.predict(state, batch_size=1).flatten()\n",
    "        return np.random.choice(self.action_size, 1, p=probs)[0]\n",
    "\n",
    "    # update policy network every episode\n",
    "    def train_model(self, state, action, reward, next_state, done):\n",
    "        target = np.zeros((1, self.value_size))\n",
    "        advantages = np.zeros((1, self.action_size))\n",
    "\n",
    "        value = self.critic.predict(state)[0]\n",
    "        next_value = self.critic.predict(next_state)[0]\n",
    "\n",
    "        if done:\n",
    "            advantages[0][action] = reward - value\n",
    "            target[0][0] = reward\n",
    "        else:\n",
    "            advantages[0][action] = reward + self.discount_factor * next_value - value\n",
    "            target[0][0] = reward + self.discount_factor * next_value\n",
    "            \n",
    "        self.critic.fit(state, target, epochs=1, verbose=0)\n",
    "        self.actor.fit(state, advantages, epochs=1, verbose=0)"
   ]
  },
  {
   "cell_type": "code",
   "execution_count": null,
   "metadata": {},
   "outputs": [
    {
     "name": "stderr",
     "output_type": "stream",
     "text": [
      "[2019-01-16 15:39:37,492] Making new env: CartPole-v1\n"
     ]
    },
    {
     "name": "stdout",
     "output_type": "stream",
     "text": [
      "_________________________________________________________________\n",
      "Layer (type)                 Output Shape              Param #   \n",
      "=================================================================\n",
      "dense_33 (Dense)             (None, 5)                 25        \n",
      "_________________________________________________________________\n",
      "dense_34 (Dense)             (None, 2)                 12        \n",
      "=================================================================\n",
      "Total params: 37\n",
      "Trainable params: 37\n",
      "Non-trainable params: 0\n",
      "_________________________________________________________________\n",
      "_________________________________________________________________\n",
      "Layer (type)                 Output Shape              Param #   \n",
      "=================================================================\n",
      "dense_35 (Dense)             (None, 5)                 25        \n",
      "_________________________________________________________________\n",
      "dense_36 (Dense)             (None, 1)                 6         \n",
      "=================================================================\n",
      "Total params: 31\n",
      "Trainable params: 31\n",
      "Non-trainable params: 0\n",
      "_________________________________________________________________\n",
      "Episode:0 | Avg Reward: 19.0\n",
      "Episode:250 | Avg Reward: 67.27\n"
     ]
    }
   ],
   "source": [
    "def dac():\n",
    "    env = gym.make('CartPole-v1')\n",
    "    np.random.seed(123)\n",
    "    env.seed(123)\n",
    "    random.seed(123)\n",
    "    tf.set_random_seed(123)\n",
    "    state_size = env.observation_space.shape[0]\n",
    "    action_size = env.action_space.n\n",
    "    agent = DACAgent(state_size, action_size)\n",
    "\n",
    "    dac_avg_rewards = []\n",
    "    scores = deque(maxlen=100)\n",
    "\n",
    "    for e in range(3000):\n",
    "        done = False\n",
    "        score = 0\n",
    "        state = env.reset()\n",
    "        state = np.reshape(state, [1, state_size])\n",
    "        while not done:\n",
    "            action = agent.policy(state)\n",
    "            next_state, reward, done, info = env.step(action)\n",
    "            next_state = np.reshape(next_state, [1, state_size])\n",
    "\n",
    "            agent.train_model(state, action, reward, next_state, done)\n",
    "\n",
    "            score += reward\n",
    "            state = next_state\n",
    "\n",
    "            if done:\n",
    "                break\n",
    "\n",
    "        scores.append(score)\n",
    "        dac_avg_rewards.append(np.mean(scores))\n",
    "        if (e % 250 == 0):\n",
    "            print(\"Episode:\" + str(e) + \" | Avg Reward: \" + str(dac_avg_rewards[e]))\n",
    "\n",
    "    return dac_avg_rewards\n",
    "\n",
    "# plot\n",
    "dac_avg_rewards = dac()\n",
    "plt.plot(range(3000),dac_avg_rewards[0:3000])\n",
    "# plt.plot(range(3000),dpg_avg_rewards[0:3000])\n",
    "# plt.plot(range(3000),reinforce_avg_rewards[0:3000])\n",
    "plt.legend([\"DAC\"])\n",
    "plt.show()"
   ]
  },
  {
   "cell_type": "markdown",
   "metadata": {},
   "source": [
    "### Other algorithms\n",
    "\n",
    "Nowadays, although a lot RL algorithms are proposed, they still inherit properties:\n",
    "\n",
    "1. On-policy or off-policy algorithm.\n",
    "2. Q function approximation using Deep neural network.\n",
    "3. Actor critic architecture.\n",
    "4. Natural Policy Gradient (PPO, TRPO) vs Vanilla Policy Gradient (DDPG, A3C, A2C).\n",
    "5. Policy-based vs Value-based\n",
    "6. Episodic-based vs Step-based\n",
    "\n",
    "You can also write your own RL algorithms."
   ]
  },
  {
   "cell_type": "markdown",
   "metadata": {
    "collapsed": true
   },
   "source": [
    "# Research Areas?\n",
    "\n",
    "### Auto Machine Learning (AutoML)\n",
    "\n",
    "Hyper-parameters in RL: learning rate ($\\alpha$), discounted factor ($\\gamma$), learning rate decay, epsilon, number of hidden layer, number of hidden units for each layer.\n",
    "\n",
    "The question is how to obtain optimal hyper-parameters. The answer is **AutoML**\n",
    "\n",
    "AutoML provides a way to select models and optimize hyper-parameters.\n",
    "\n",
    "### Hierarchial Reinforcement Learning\n",
    "\n",
    "\n",
    "\n",
    "### Planning under Partial Observability\n",
    "\n",
    "### Meta learning"
   ]
  },
  {
   "cell_type": "markdown",
   "metadata": {},
   "source": [
    "# Conclusion?\n",
    "\n",
    "Depend on the specified problem, we can pick up the appropriate RL algorithm (not nessesary deep algorithms).\n",
    "\n",
    "### The process to solve the problem with RL algorithms:\n",
    "\n",
    "1. Determine the input and output values of the problem\n",
    "\n",
    "2. Build random, heuristic algorithms (baseline)\n",
    "\n",
    "3. Build RL algorithms: build deep network, write algorithm\n",
    "\n",
    "4. Running the algorithms and tuning hyperparameters (using AutoML)\n",
    "\n",
    "4. Improve algorithms by: normalizing input, adding more inputs, prevent overfiting (adding regularizer, dropout,...)"
   ]
  },
  {
   "cell_type": "markdown",
   "metadata": {},
   "source": [
    "# References"
   ]
  },
  {
   "cell_type": "markdown",
   "metadata": {},
   "source": [
    "1. RL course of David Silver: http://www0.cs.ucl.ac.uk/staff/d.silver/web/Teaching.html\n",
    "2. RL Code: https://github.com/rlcode"
   ]
  },
  {
   "cell_type": "code",
   "execution_count": null,
   "metadata": {
    "collapsed": true
   },
   "outputs": [],
   "source": []
  }
 ],
 "metadata": {
  "celltoolbar": "Slideshow",
  "kernelspec": {
   "display_name": "Python 2",
   "language": "python",
   "name": "python2"
  },
  "language_info": {
   "codemirror_mode": {
    "name": "ipython",
    "version": 2
   },
   "file_extension": ".py",
   "mimetype": "text/x-python",
   "name": "python",
   "nbconvert_exporter": "python",
   "pygments_lexer": "ipython2",
   "version": "2.7.13"
  }
 },
 "nbformat": 4,
 "nbformat_minor": 2
}
