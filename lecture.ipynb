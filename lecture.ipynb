{
 "cells": [
  {
   "cell_type": "markdown",
   "metadata": {},
   "source": [
    "<img src=\"logo.png\"/>\n",
    "\n",
    "<h1 align=center><font size = 5> REINFORCEMENT LEARNING: FROM BASIC TO ADVANCED</font></h1>"
   ]
  },
  {
   "cell_type": "markdown",
   "metadata": {},
   "source": [
    "##  Table of contents\n",
    "<div class=\"alert alert-block alert-info\" style=\"margin-top: 20px\">\n",
    "<br>\n",
    "- <p><a href=\"#ref1\">Goals?</a></p>\n",
    "- <p><a href=\"#ref2\">Requirements?</a></p>\n",
    "- <p><a href=\"#ref3\">What is Reinforcement Learning?</a></p>\n",
    "- <p><a href=\"#ref4\">Reinforcement Learning Approaches?</a></p>\n",
    "- <p><a href=\"#ref4\">Deep Reinforcement Learning?</a></p>\n",
    "- <p><a href=\"#ref6\">Research Areas?</a></p>\n",
    "- <p><a href=\"#ref6\">Conclusion?</a></p>\n",
    "- <p><a href=\"#ref7\">References?</a></p>\n",
    "<p></p>\n",
    "</div>\n",
    "<br>"
   ]
  },
  {
   "cell_type": "markdown",
   "metadata": {},
   "source": [
    "<a id=\"ref1\"></a>\n",
    "# Goals?\n",
    "You will have learned:\n",
    "- What Reinforcement Learning is and how it works\n",
    "- Understanding some ideas and algorithms from basic to advanced\n",
    "- The challenges in Reinforcement Learning.\n",
    "- The lecture is designed to non-RL person."
   ]
  },
  {
   "cell_type": "markdown",
   "metadata": {},
   "source": [
    "<a id=\"ref2\"></a>\n",
    "# Requirement?\n",
    "You should already know:\n",
    "- Beginner level Python\n",
    "- Linear Algebra\n",
    "\n",
    "- Tensorflow (advanced part only)\n",
    "- Deep learning ((advanced part only))"
   ]
  },
  {
   "cell_type": "markdown",
   "metadata": {},
   "source": [
    "Required packages"
   ]
  },
  {
   "cell_type": "code",
   "execution_count": 6,
   "metadata": {
    "collapsed": true
   },
   "outputs": [],
   "source": [
    "import numpy as np\n",
    "import gym\n",
    "import matplotlib.pyplot as plt\n",
    "from collections import deque\n",
    "import random"
   ]
  },
  {
   "cell_type": "markdown",
   "metadata": {},
   "source": [
    "<a id=\"ref3\"></a>\n",
    "# What is Reinforcement Learning?\n",
    "\n",
    "### Definition\n",
    "\n",
    "Reinforcement learning (RL) is an area of machine learning concerned with how the agent take actions in an environment to maximize discounted cumulative reward.\n",
    "\n",
    "<img src=\"images/rl.gif\"/>\n",
    "\n",
    "### The process of RL involves steps:\n",
    "1. The agent observes a **state** from the **environment**\n",
    "2. The agent select an **action** using a **policy**\n",
    "3. The agent executes the **action**\n",
    "4. The agent observes next **state** from the **environment**\n",
    "5. The agent receives a **reward** from the **environment**\n",
    "6. Learning the **policy** based on the experiences\n",
    "7. Iterate until an *optimal* **policy** is found\n",
    "\n",
    "### Example environment: CartPole Balancing\n",
    "\n",
    "Let's use a simulation of a cartpole problem. The goal is to demonstrate, how you can use RL techniques to develop an efficient and safe approach for tackling this problem.\n",
    "\n",
    "<img src=\"images/cartpole.gif\"/>\n",
    "\n",
    "A pole is attached by an un-actuated joint to a cart, which moves along a frictionless track. The goal of cartpole problem is to balance the pole. Here are a few things that we must to take care of:\n",
    "\n",
    "- The problem fails if the pole is more than 12 degrees from vertical.\n",
    "- The problem fails if the cart moves more than 2.4 units from the center.\n",
    "\n",
    "Now, we import the cartpole environment from [Gym OpenAI](https://gym.openai.com)"
   ]
  },
  {
   "cell_type": "code",
   "execution_count": 7,
   "metadata": {},
   "outputs": [
    {
     "name": "stderr",
     "output_type": "stream",
     "text": [
      "[2019-01-15 10:26:55,081] Making new env: CartPole-v1\n"
     ]
    }
   ],
   "source": [
    "env = gym.make('CartPole-v1')"
   ]
  },
  {
   "cell_type": "markdown",
   "metadata": {},
   "source": [
    "There are different aspects that need to be considered here while modeling an RL solution to this problem: rewards, states, and actions.\n",
    "\n",
    "##### Rewards\n",
    "\n",
    "Since the agent is reward-motivated and is going to learn how to balance the pole by trial experiences in the environment, we need to decide the rewards and/or penalties and their magnitude accordingly. \n",
    "\n",
    "In cartpole problem, a reward of +1 is provided for every timestep that the pole remains upright.\n",
    "\n",
    "##### State Space\n",
    "\n",
    "The State Space is the set of all possible situations the cart-pole system could inhabit. The state should contain useful information the agent needs to make the right action.\n",
    "\n",
    "In cartpole problem, the state has 4 dimensions (4-dimensional states):\n",
    "- Cart Position (min: -4.8, max: 4.8)\n",
    "- Cart Velocity (min: -inf, max: inf)\n",
    "- Pole Angle (min: -24 degrees, max: 24 degrees)\n",
    "- Pole Velocity (min: -inf, max: inf)\n",
    "\n",
    "Print the state space:"
   ]
  },
  {
   "cell_type": "code",
   "execution_count": 8,
   "metadata": {
    "scrolled": true
   },
   "outputs": [
    {
     "name": "stdout",
     "output_type": "stream",
     "text": [
      "Box(4,)\n"
     ]
    }
   ],
   "source": [
    "print(env.observation_space)"
   ]
  },
  {
   "cell_type": "markdown",
   "metadata": {},
   "source": [
    "More details:"
   ]
  },
  {
   "cell_type": "code",
   "execution_count": 9,
   "metadata": {},
   "outputs": [
    {
     "name": "stdout",
     "output_type": "stream",
     "text": [
      "[  4.80000000e+00   3.40282347e+38   4.18879020e-01   3.40282347e+38]\n",
      "[ -4.80000000e+00  -3.40282347e+38  -4.18879020e-01  -3.40282347e+38]\n"
     ]
    }
   ],
   "source": [
    "print(env.observation_space.high)\n",
    "print(env.observation_space.low)"
   ]
  },
  {
   "cell_type": "markdown",
   "metadata": {},
   "source": [
    "##### Action Space\n",
    "\n",
    "The set of all the actions that our agent can take in a given state.\n",
    "\n",
    "In cartpole problem, the agent has two actions:\n",
    "- 0: Push cart to the left\n",
    "- 1: Push cart to the right\n",
    "\n",
    "Print the action space:"
   ]
  },
  {
   "cell_type": "code",
   "execution_count": 10,
   "metadata": {},
   "outputs": [
    {
     "name": "stdout",
     "output_type": "stream",
     "text": [
      "Discrete(2)\n"
     ]
    }
   ],
   "source": [
    "print(env.action_space)"
   ]
  },
  {
   "cell_type": "markdown",
   "metadata": {},
   "source": [
    "##### Policy\n",
    "\n",
    "A policy of a RL algorithm is denoted by $\\pi$, which is the probability of taking an action $a$ given a state $s$: \n",
    "\\begin{align}\n",
    "\\pi = {\\cal P}(a|s),\n",
    "\\end{align}\n",
    "\n",
    "The goal of an RL algorithm is to find an optimal policy $\\pi^*$ in order to maximize the expected discounted reward as follows:\n",
    "\\begin{align}\n",
    "J(\\pi ) = \\mathbb{E}\\bigg[\\sum\\limits_{t = 0}^\\infty {{\\gamma ^t}r({s_t},{a_t})}\\bigg].\n",
    "\\end{align}\n",
    "\n",
    "$\\gamma$ is the discount factor determines how much importance we want to give to future rewards. A high value for the discount factor (close to 1) captures the long-term effective award, whereas, a discount factor of 0 makes our agent consider only immediate reward, hence making it greedy."
   ]
  },
  {
   "cell_type": "markdown",
   "metadata": {},
   "source": [
    "### Solving the environment without Reinforcement Learning\n",
    "\n",
    "Let's see what would happen if we try to use a heuristic approach to solving the problem without RL.\n",
    "\n",
    "##### Random search\n",
    "\n",
    "We create a class called **LinearAgent** which is parameterized by 4 parameters $\\theta_1$, $\\theta_2$, $\\theta_3$, $\\theta_4$ (between -1 and 1). The agent takes action based on the rules as follows:\n",
    "- Push left if $\\theta_1 * state[0] + \\theta_2 * state[1] + \\theta_3 * state[2] + \\theta_4 * state[3] < 0$\n",
    "- Otherwise: push right"
   ]
  },
  {
   "cell_type": "code",
   "execution_count": 13,
   "metadata": {
    "collapsed": true
   },
   "outputs": [],
   "source": [
    "class LinearAgent:\n",
    "\n",
    "    def __init__(self):\n",
    "        self.thetas = np.random.rand(4) * 2 - 1\n",
    "\n",
    "    def policy(self, state):\n",
    "        return 0 if np.matmul(self.thetas, state) < 0 else 1"
   ]
  },
  {
   "cell_type": "markdown",
   "metadata": {},
   "source": [
    "Function **run_episode** to run the cartpole using **Agent**"
   ]
  },
  {
   "cell_type": "code",
   "execution_count": 14,
   "metadata": {
    "collapsed": true
   },
   "outputs": [],
   "source": [
    "def run_episode(env, agent):\n",
    "    states = []\n",
    "    actions = []\n",
    "    rewards = []\n",
    "\n",
    "    state = env.reset()\n",
    "    for _ in range(500):\n",
    "        action = agent.policy(state)\n",
    "        states.append(state)\n",
    "        actions.append(action)\n",
    "\n",
    "        state, reward, done, info = env.step(action)\n",
    "        rewards.append(reward)\n",
    "\n",
    "        if done:\n",
    "            break\n",
    "\n",
    "    return np.array(states), np.array(actions), np.array(rewards)"
   ]
  },
  {
   "cell_type": "markdown",
   "metadata": {},
   "source": [
    "**Random search** algorithm randomly find parameters that maximize the total reward"
   ]
  },
  {
   "cell_type": "code",
   "execution_count": 15,
   "metadata": {
    "collapsed": true
   },
   "outputs": [],
   "source": [
    "def random_search():\n",
    "    env = gym.make('CartPole-v1')\n",
    "    np.random.seed(123)\n",
    "    env.seed(123)\n",
    "    \n",
    "    best_params = None\n",
    "    best_reward = 0\n",
    "    agent = LinearAgent()\n",
    "    ran_avg_rewards = []\n",
    "    scores = deque(maxlen=100)\n",
    "   \n",
    "    for runs in range(10000):\n",
    "        agent.thetas = np.random.rand(4) * 2 - 1\n",
    "        _,_,rewards = run_episode(env, agent)\n",
    "        total_reward = np.sum(rewards)\n",
    "        if total_reward > best_reward:\n",
    "            best_reward = total_reward\n",
    "            best_params = np.copy(agent.thetas)\n",
    "\n",
    "        # evaluate the agent\n",
    "        agent.thetas = best_params\n",
    "        _,_,rewards = run_episode(env, agent)\n",
    "        scores.append(np.sum(rewards))\n",
    "        ran_avg_rewards.append(np.mean(scores))\n",
    "        \n",
    "        if (runs%250==0):\n",
    "            print(\"Episode:\" + str(runs) +\" | Avg Reward: \" + str(ran_avg_rewards[runs]))\n",
    "    \n",
    "    return ran_avg_rewards"
   ]
  },
  {
   "cell_type": "markdown",
   "metadata": {},
   "source": [
    "Now, run the random agent and show the performance:"
   ]
  },
  {
   "cell_type": "code",
   "execution_count": 16,
   "metadata": {},
   "outputs": [
    {
     "name": "stderr",
     "output_type": "stream",
     "text": [
      "[2019-01-15 10:29:52,698] Making new env: CartPole-v1\n"
     ]
    },
    {
     "name": "stdout",
     "output_type": "stream",
     "text": [
      "Episode:0 | Avg Reward: 153.0\n",
      "Episode:250 | Avg Reward: 346.32\n",
      "Episode:500 | Avg Reward: 326.48\n",
      "Episode:750 | Avg Reward: 344.34\n",
      "Episode:1000 | Avg Reward: 346.67\n",
      "Episode:1250 | Avg Reward: 361.01\n",
      "Episode:1500 | Avg Reward: 368.23\n",
      "Episode:1750 | Avg Reward: 321.24\n",
      "Episode:2000 | Avg Reward: 313.31\n",
      "Episode:2250 | Avg Reward: 359.46\n",
      "Episode:2500 | Avg Reward: 353.48\n",
      "Episode:2750 | Avg Reward: 352.6\n",
      "Episode:3000 | Avg Reward: 354.48\n",
      "Episode:3250 | Avg Reward: 346.3\n",
      "Episode:3500 | Avg Reward: 319.64\n",
      "Episode:3750 | Avg Reward: 325.87\n",
      "Episode:4000 | Avg Reward: 341.27\n",
      "Episode:4250 | Avg Reward: 333.26\n",
      "Episode:4500 | Avg Reward: 343.05\n",
      "Episode:4750 | Avg Reward: 340.77\n",
      "Episode:5000 | Avg Reward: 310.83\n",
      "Episode:5250 | Avg Reward: 362.95\n",
      "Episode:5500 | Avg Reward: 335.77\n",
      "Episode:5750 | Avg Reward: 321.33\n",
      "Episode:6000 | Avg Reward: 363.86\n",
      "Episode:6250 | Avg Reward: 357.99\n",
      "Episode:6500 | Avg Reward: 338.28\n",
      "Episode:6750 | Avg Reward: 316.12\n",
      "Episode:7000 | Avg Reward: 335.38\n",
      "Episode:7250 | Avg Reward: 347.15\n",
      "Episode:7500 | Avg Reward: 349.48\n",
      "Episode:7750 | Avg Reward: 326.94\n",
      "Episode:8000 | Avg Reward: 349.39\n",
      "Episode:8250 | Avg Reward: 352.74\n",
      "Episode:8500 | Avg Reward: 331.01\n",
      "Episode:8750 | Avg Reward: 364.07\n",
      "Episode:9000 | Avg Reward: 339.41\n",
      "Episode:9250 | Avg Reward: 373.75\n",
      "Episode:9500 | Avg Reward: 327.23\n",
      "Episode:9750 | Avg Reward: 338.27\n"
     ]
    },
    {
     "data": {
      "image/png": "[encoded data removed]",
      "text/plain": [
       "<matplotlib.figure.Figure at 0x10a78dd90>"
      ]
     },
     "metadata": {},
     "output_type": "display_data"
    }
   ],
   "source": [
    "ran_avg_rewards = random_search()\n",
    "\n",
    "plt.ylabel('averaged reward')\n",
    "plt.xlabel('Number of Evaluate')\n",
    "plt.plot(ran_avg_rewards)\n",
    "plt.legend(['Random'])\n",
    "plt.show()"
   ]
  },
  {
   "cell_type": "markdown",
   "metadata": {},
   "source": [
    "Balancing around 7 seconds\n",
    "\n",
    "##### Heuristic \n",
    "\n",
    "Now, I use a heuristic as follow:\n",
    "\n",
    "- The agent pushes cart to the **left** if angle and angular velocity of the pole are less than 0\n",
    "- The agent pushes cart to the **right** if angle and angular velocity of the pole are greater than 0\n",
    "- Otherwise, the agent execute a random action."
   ]
  },
  {
   "cell_type": "code",
   "execution_count": 17,
   "metadata": {
    "collapsed": true
   },
   "outputs": [],
   "source": [
    "class HeuristicAgent:\n",
    "\n",
    "    def __init__(self):\n",
    "        pass\n",
    "\n",
    "    def policy(self, state):\n",
    "        # Heuristic approach\n",
    "        if (state[2] < 0 and state[3] < 0):\n",
    "            return 0\n",
    "        elif (state[2] > 0 and state[3] > 0):\n",
    "            return 1\n",
    "        else:\n",
    "            return np.random.randint(0, 2)"
   ]
  },
  {
   "cell_type": "markdown",
   "metadata": {},
   "source": [
    "Run the heuristic agent and show the performance:"
   ]
  },
  {
   "cell_type": "code",
   "execution_count": 18,
   "metadata": {},
   "outputs": [
    {
     "name": "stderr",
     "output_type": "stream",
     "text": [
      "[2019-01-15 10:30:57,636] Making new env: CartPole-v1\n"
     ]
    },
    {
     "name": "stdout",
     "output_type": "stream",
     "text": [
      "Episode:0 | Avg Reward: 500.0\n",
      "Episode:250 | Avg Reward: 439.67\n",
      "Episode:500 | Avg Reward: 457.2\n",
      "Episode:750 | Avg Reward: 452.48\n",
      "Episode:1000 | Avg Reward: 443.73\n",
      "Episode:1250 | Avg Reward: 433.83\n",
      "Episode:1500 | Avg Reward: 454.64\n",
      "Episode:1750 | Avg Reward: 447.74\n",
      "Episode:2000 | Avg Reward: 451.51\n",
      "Episode:2250 | Avg Reward: 444.79\n",
      "Episode:2500 | Avg Reward: 435.61\n",
      "Episode:2750 | Avg Reward: 450.72\n",
      "Episode:3000 | Avg Reward: 446.0\n",
      "Episode:3250 | Avg Reward: 456.13\n",
      "Episode:3500 | Avg Reward: 444.55\n",
      "Episode:3750 | Avg Reward: 445.93\n",
      "Episode:4000 | Avg Reward: 445.64\n",
      "Episode:4250 | Avg Reward: 437.7\n",
      "Episode:4500 | Avg Reward: 441.39\n",
      "Episode:4750 | Avg Reward: 456.74\n",
      "Episode:5000 | Avg Reward: 431.67\n",
      "Episode:5250 | Avg Reward: 452.25\n",
      "Episode:5500 | Avg Reward: 448.11\n",
      "Episode:5750 | Avg Reward: 442.46\n",
      "Episode:6000 | Avg Reward: 447.12\n",
      "Episode:6250 | Avg Reward: 439.27\n",
      "Episode:6500 | Avg Reward: 446.74\n",
      "Episode:6750 | Avg Reward: 448.43\n",
      "Episode:7000 | Avg Reward: 445.79\n",
      "Episode:7250 | Avg Reward: 446.77\n",
      "Episode:7500 | Avg Reward: 443.46\n",
      "Episode:7750 | Avg Reward: 447.18\n",
      "Episode:8000 | Avg Reward: 432.02\n",
      "Episode:8250 | Avg Reward: 455.81\n",
      "Episode:8500 | Avg Reward: 445.89\n",
      "Episode:8750 | Avg Reward: 458.05\n",
      "Episode:9000 | Avg Reward: 438.32\n",
      "Episode:9250 | Avg Reward: 431.1\n",
      "Episode:9500 | Avg Reward: 446.25\n",
      "Episode:9750 | Avg Reward: 442.06\n"
     ]
    },
    {
     "data": {
      "image/png": "[encoded data removed]",
      "text/plain": [
       "<matplotlib.figure.Figure at 0x10d9aadd0>"
      ]
     },
     "metadata": {},
     "output_type": "display_data"
    }
   ],
   "source": [
    "def heuristic():\n",
    "    env = gym.make('CartPole-v1')\n",
    "    np.random.seed(123)\n",
    "    env.seed(123)\n",
    "    \n",
    "    heu_avg_rewards = []\n",
    "    scores = deque(maxlen=100)\n",
    "    agent = HeuristicAgent()\n",
    "    \n",
    "    for runs in range(10000):\n",
    "        _,_,rewards = run_episode(env, agent)\n",
    "        scores.append(np.sum(rewards))\n",
    "        heu_avg_rewards.append(np.mean(scores))\n",
    "        \n",
    "        if (runs%250==0):\n",
    "            print(\"Episode:\" + str(runs) +\" | Avg Reward: \" + str(heu_avg_rewards[runs]))\n",
    "        \n",
    "    return heu_avg_rewards\n",
    "\n",
    "# plot\n",
    "heu_avg_rewards = heuristic()\n",
    "plt.plot(range(10000),ran_avg_rewards)\n",
    "plt.plot(range(10000),heu_avg_rewards)\n",
    "plt.legend([\"Random\", 'Heuristic'])\n",
    "plt.show()"
   ]
  },
  {
   "cell_type": "markdown",
   "metadata": {},
   "source": [
    "The cart-pole balance in 9s but the agent does not learn anything.\n",
    "\n",
    "So, now let's use some algorithms to control the cart-pole"
   ]
  },
  {
   "cell_type": "markdown",
   "metadata": {},
   "source": [
    "# RL Approaches?\n",
    "\n",
    "I prefer to categorize the RL algorithms into three approaches: value-based approach, policy-based approach and actor-critic approach. Other ways to classification: model-free approach vs model-based approach, on-policy vs off-policy\n",
    "\n",
    "<img src=\"images/taxonomy.png\"/>\n",
    "\n",
    "### Value-based approach\n",
    "\n",
    "A typical value-based approach tries to obtain an optimal policy by finding optimal value functions (${\\cal V}$ values) or action value function (${\\cal Q}$ values). \n",
    "\n",
    "##### Value function ${\\cal V}(s_t)$\n",
    "\n",
    "The value of state $s$ is defined to be the expected discounted reward which the agent can get if the agent starts in state $s$. Formally, this can be written as:\n",
    "\n",
    "\\begin{align}\n",
    "{\\cal V} (s_t) = \\mathbb{E}\\bigg[\\sum\\limits_{t' = t}^T {{\\gamma ^{t'-t}}r({s_{t'}},{a_{t'}})}\\bigg].\n",
    "\\end{align}\n",
    "\n",
    "<img src=\"images/v_value.png\"/>\n",
    "\n",
    "Assume we have a cheat sheet scoring every state: \n",
    "\n",
    "\\begin{align}\n",
    "{\\cal V}(s_t).\n",
    "\\end{align}\n",
    "\n",
    "We can simply look at the cheat sheet and find what is the next most rewarding state and take the corresponding action.\n",
    "\n",
    "##### Action-value function ${\\cal Q}(s_t, a_t)$\n",
    "\n",
    "Action-value function ${\\cal Q}$ measures the expected discounted rewards of taking an action $a_t$ at state $s_t$\n",
    "\n",
    "\\begin{align}\n",
    "{\\cal Q} (s_t,a_t) = \\mathbb{E}\\bigg[\\sum\\limits_{t' = t}^T {{\\gamma ^{t'-t}}r({s_{t'}},{a_{t'}})}\\bigg].\n",
    "\\end{align}\n",
    "\n",
    "<img src=\"images/q_value.png\"/>\n",
    "\n",
    "##### Methods to estimate ${\\cal V}$ and ${\\cal Q}$\n",
    "\n",
    "###### Dynamic Programming (DP)\n",
    "\n",
    "Dynamic Programming is a very general solution method for problems which have two properties:\n",
    "1. Optimal substructure\n",
    "- Principle of optimality applies\n",
    "- Optimal solution can be decomposed into subproblems\n",
    "2. Overlapping subproblems\n",
    "- Subproblems recur many times\n",
    "- Solutions can be cached and reused\n",
    "\n",
    "Dynamic programming assumes full knowledge of the MDP (E.g. we know everything about the environment).\n",
    "\n",
    "I ignore the DP-based algorithms because it is difficult to solve *unknown* MDP\n",
    "\n",
    "###### Monte-Carlo (MC)\n",
    "\n",
    "- MC methods estimate ${\\cal Q}$ directly from episodes of experience\n",
    "- MC is model-free: no knowledge of MDP transitions / rewards\n",
    "- MC learns from complete episodes.\n",
    "- Can only apply MC to episodic MDPs (All episodes must be terminated)\n",
    "\n",
    "Now, we try to use MC method to control cartpole problem. First, we need to build a Q-table. \n",
    "\n",
    "- The Q-table is a matrix where we have a row for every state (discrete state) and a column for every action (2 action). It's first initialized to 0, and then values are updated after training.\n",
    "\n",
    "In cartpole, the state space is a continous state space. Thus, we need to discretize the state space to discrete state. The discrete intervals are defined as follows:\n",
    "\n",
    "- Cart Position ($x$) is devided into 1 part: [-4.8:4.8]\n",
    "- Cart Velocity ($\\dot{x}$) is devided into 8 parts: [-3:-2.25], [-2.25:-1.5], [-1.5:-0.75], [-0.75:0], [0:0.75], [0.75:1.5], [1.5:2.25], [2.25:3]\n",
    "- Pole Angle ($\\theta$) is devided into 8 parts (in degrees): [-24:-18], [-18:-12], [-12:-6], [-6:0], [0:6], [6:12], [12:18], [18:24]\n",
    "- Pole Velocity ($\\dot{\\theta}$) is devided into 8 parts: [-2:-1.5], [-1.5:-1], [-1:-0.5], [-0.5:0], [0:0.5], [0.5:1], [1:1.5], [1.5:2]\n",
    "\n",
    "Totally, we have 512 states. The form of Q-table as follows:\n",
    "\n",
    "<img src=\"images/q_table.png\"/>\n",
    "\n",
    "We need some functions:\n",
    "- **discretize_val**: converts a raw state to particular interval.\n",
    "- **obs_to_state**: converts a raw state to discrete state index (from 0 to 511)\n",
    "- **get_discounted_rewards**: return the discounted reward of each state in a episode"
   ]
  },
  {
   "cell_type": "code",
   "execution_count": 19,
   "metadata": {
    "collapsed": true
   },
   "outputs": [],
   "source": [
    "def discretize_val(val, min_val, max_val, num_states):\n",
    "    state = int(num_states * (val - min_val) / (max_val - min_val))\n",
    "    if state >= num_states:\n",
    "        state = num_states - 1\n",
    "    if state < 0:\n",
    "        state = 0\n",
    "    return state\n",
    "\n",
    "def get_state_idx(state):\n",
    "    num_interval = [1, 8, 8, 8]\n",
    "    lower_bounds = [-4.8, -3, -0.418, -2]\n",
    "    upper_bounds = [4.8, 3, 0.418, 2]\n",
    "\n",
    "    state_idx = []\n",
    "    for ob, lower, upper, num in zip(state, lower_bounds, upper_bounds, num_interval):\n",
    "        state_idx.append(discretize_val(ob, lower, upper, num))\n",
    "\n",
    "    return np.ravel_multi_index(state_idx, num_interval)\n",
    "\n",
    "def get_discounted_rewards(rewards, gamma):\n",
    "    future_discounted_reward = 0\n",
    "    discounted_rewards = np.empty_like(rewards, dtype=np.float64)\n",
    "    for i in range(rewards.shape[0] - 1, -1, -1):\n",
    "        discounted_rewards[i] = rewards[i] + gamma * future_discounted_reward\n",
    "        future_discounted_reward = discounted_rewards[i]\n",
    "\n",
    "    return discounted_rewards"
   ]
  },
  {
   "cell_type": "markdown",
   "metadata": {},
   "source": [
    "Create **MCAgent** class with some methods:\n",
    "- **init**: define some hyperparameters, create Q-table (512x2), create a table to count the number of visited states\n",
    "- **policy**: using Q table to take action. Here is a greedy-epsilon policy\n",
    "\n",
    "\\begin{equation} \n",
    "\\pi(a|s) = \\begin{cases}\n",
    "argmax{Q(s,a)} & random > \\epsilon\\\\\n",
    "\\textit{a random action} & random < \\epsilon\n",
    "\\end{cases}\n",
    "\\end{equation}\n",
    "\n",
    "- **update**: using sampled episode to update the Q action-values in Q-table. Particularly, we find the total discounted reward $G_t$ (total discounted rewards from $s_t$ to the end). We update the action value function by adding a small portion of the difference between new estimate $G_t$ and the current action value $Q(s_t, a_t)$ back to itself. This approach creates a running mean from a stream of estimates. With many more episodes, $Q(s_t, a_t)$ will converge to the true value.\n",
    "\n",
    "\\begin{equation} \n",
    "Q(s_t, a_t)=Q(s_t,a_t)+\\alpha(G_t−Q(s_t,a_t))\n",
    "\\end{equation}\n",
    "\n",
    "<img src=\"images/MC.png\"/>\n",
    "\n",
    "In the code below:\n",
    "\n",
    "\\begin{equation} \n",
    "Q(s_t, a_t) = Q(s_t, a_t) + \\frac{1}{\\textit{number of visited state $s_t$ and take action $a_t$}}(R_t - Q(s_t, a_t))\n",
    "\\end{equation}"
   ]
  },
  {
   "cell_type": "code",
   "execution_count": 20,
   "metadata": {
    "collapsed": true
   },
   "outputs": [],
   "source": [
    "class MCAgent(object):\n",
    "    def __init__(self):\n",
    "        self.gamma = 1.0\n",
    "        self.eps = 0.1\n",
    "        self.eps_decay = 0.99999\n",
    "\n",
    "        self.Q = np.zeros((512, 2))\n",
    "        self.Q_num = np.zeros((512, 2))\n",
    "\n",
    "    def policy(self, state):\n",
    "        state_idx = get_state_idx(state)\n",
    "\n",
    "        random = np.random.rand(1)[0]\n",
    "        if random > self.eps:\n",
    "            action_values = self.Q[state_idx, :]\n",
    "            return np.argmax(action_values)\n",
    "        else:\n",
    "            return np.random.randint(0, 2)\n",
    "\n",
    "    def update(self, states, actions, rewards):\n",
    "        discounted_rewards = get_discounted_rewards(np.array(rewards), self.gamma)\n",
    "        for state, action, disc_rew in zip(states, actions, discounted_rewards):\n",
    "            state_idx = get_state_idx(state)\n",
    "\n",
    "            # incremental averaging\n",
    "            self.Q_num[state_idx, action] += 1\n",
    "            self.Q[state_idx, action] += (disc_rew - self.Q[state_idx, action]) / self.Q_num[state_idx, action]\n",
    "\n",
    "        self.eps *= self.eps_decay"
   ]
  },
  {
   "cell_type": "markdown",
   "metadata": {},
   "source": [
    "Now, run the MC algorithm and report the performance"
   ]
  },
  {
   "cell_type": "code",
   "execution_count": 21,
   "metadata": {},
   "outputs": [
    {
     "name": "stderr",
     "output_type": "stream",
     "text": [
      "[2019-01-15 10:46:26,656] Making new env: CartPole-v1\n"
     ]
    },
    {
     "name": "stdout",
     "output_type": "stream",
     "text": [
      "Episode:0 | Avg Reward: 10.0\n",
      "Episode:250 | Avg Reward: 109.3\n",
      "Episode:500 | Avg Reward: 113.1\n",
      "Episode:750 | Avg Reward: 122.84\n",
      "Episode:1000 | Avg Reward: 130.69\n",
      "Episode:1250 | Avg Reward: 117.28\n",
      "Episode:1500 | Avg Reward: 123.18\n",
      "Episode:1750 | Avg Reward: 125.23\n",
      "Episode:2000 | Avg Reward: 124.97\n",
      "Episode:2250 | Avg Reward: 130.03\n",
      "Episode:2500 | Avg Reward: 122.72\n",
      "Episode:2750 | Avg Reward: 122.97\n",
      "Episode:3000 | Avg Reward: 122.71\n",
      "Episode:3250 | Avg Reward: 124.83\n",
      "Episode:3500 | Avg Reward: 124.32\n",
      "Episode:3750 | Avg Reward: 122.73\n",
      "Episode:4000 | Avg Reward: 123.4\n",
      "Episode:4250 | Avg Reward: 124.54\n",
      "Episode:4500 | Avg Reward: 125.87\n",
      "Episode:4750 | Avg Reward: 124.11\n",
      "Episode:5000 | Avg Reward: 124.07\n",
      "Episode:5250 | Avg Reward: 124.42\n",
      "Episode:5500 | Avg Reward: 123.24\n",
      "Episode:5750 | Avg Reward: 126.18\n",
      "Episode:6000 | Avg Reward: 123.08\n",
      "Episode:6250 | Avg Reward: 119.45\n",
      "Episode:6500 | Avg Reward: 127.88\n",
      "Episode:6750 | Avg Reward: 122.84\n",
      "Episode:7000 | Avg Reward: 135.12\n",
      "Episode:7250 | Avg Reward: 142.27\n",
      "Episode:7500 | Avg Reward: 143.14\n",
      "Episode:7750 | Avg Reward: 139.58\n",
      "Episode:8000 | Avg Reward: 143.4\n",
      "Episode:8250 | Avg Reward: 208.2\n",
      "Episode:8500 | Avg Reward: 333.96\n",
      "Episode:8750 | Avg Reward: 479.54\n",
      "Episode:9000 | Avg Reward: 483.8\n",
      "Episode:9250 | Avg Reward: 486.28\n",
      "Episode:9500 | Avg Reward: 494.84\n",
      "Episode:9750 | Avg Reward: 490.59\n"
     ]
    },
    {
     "data": {
      "image/png": "[encoded data removed]",
      "text/plain": [
       "<matplotlib.figure.Figure at 0x10a78de90>"
      ]
     },
     "metadata": {},
     "output_type": "display_data"
    }
   ],
   "source": [
    "def monte_carlo():\n",
    "    env = gym.make('CartPole-v1')\n",
    "    np.random.seed(123)\n",
    "    env.seed(123)\n",
    "    \n",
    "    agent = MCAgent()\n",
    "    mc_avg_rewards = []\n",
    "    scores = deque(maxlen=100)\n",
    "    \n",
    "    for run in range(10000):\n",
    "        states, actions, rewards = run_episode(env, agent)\n",
    "        # update Q table\n",
    "        agent.update(states, actions, rewards)\n",
    "        \n",
    "        # for plot\n",
    "        scores.append(np.sum(rewards))\n",
    "        mc_avg_rewards.append(np.mean(scores))\n",
    "        if (run%250==0):\n",
    "            print(\"Episode:\" + str(run) +\" | Avg Reward: \" + str(mc_avg_rewards[run]))\n",
    " \n",
    "    return mc_avg_rewards\n",
    "\n",
    "# plot\n",
    "mc_avg_rewards = monte_carlo()\n",
    "plt.plot(range(10000),ran_avg_rewards)\n",
    "plt.plot(range(10000),heu_avg_rewards)\n",
    "plt.plot(range(10000),mc_avg_rewards)\n",
    "plt.legend([\"Random\", 'Heuristic', \"Monte Carlo\"])\n",
    "plt.show()        "
   ]
  },
  {
   "cell_type": "markdown",
   "metadata": {},
   "source": [
    "Using MC, the pole balance within 10s"
   ]
  },
  {
   "cell_type": "markdown",
   "metadata": {
    "slideshow": {
     "slide_type": "slide"
    }
   },
   "source": [
    "##### Temporal difference (TD)\n",
    "\n",
    "In temporal-difference (TD), we look ahead 1 step to estimate a new total reward by adding the action reward to the value function of the next state:\n",
    "\n",
    "\\begin{equation} \n",
    "V′(s_t)=r_t + 1+\\gamma V(s_{t+1})\n",
    "\\end{equation}\n",
    "\n",
    "<img src=\"images/MC.png\"/>\n",
    "\n",
    "We compute the difference of $V(s_t)$ and $V′(s_t)$. Then we add a portion of the difference back to $V(s_t)$.\n",
    "\n",
    "\\begin{equation}\n",
    "\\sigma = r_t+1+\\gamma V(s_{t+1})−V(s_t) \\\\\n",
    "V(s_t)=V(s_t)+\\alpha \\sigma\n",
    "\\end{equation}\n",
    "\n",
    "After repeating many episodes, V to converge to a good estimate.\n",
    "\n",
    "In fact, we can has n-step look ahead with n approaches infinity. n = 1, this is TD and n = $\\inf$, this is Monte-Carlo.\n",
    "\n",
    "In practial, we use a hyperparameter $\\lambda$ , E.g. TD($\\lambda$), to tradeoff between TD and Monte-Carlo. We ignore the class of TD($\\lambda$) method.\n",
    "\n",
    "<img src=\"images/MC_TD.png\"/>\n",
    "\n",
    "\n",
    "\n",
    "##### Q-Learning and SARSA algorithm\n",
    "\n",
    "The $TD$ error of ${\\cal Q}$ values is calculated by:\n",
    "\n",
    "\\begin{align}\n",
    "TD = r({s_t},{a_t}) + \\gamma {\\cal Q}(s_{t+1},a_{t+1}) - {\\cal Q}^{\\pi}(s_t,a_t)\n",
    "\\end{align}\n",
    "\n",
    "Action $a_{t+1}$ is chosen from the policy $\\pi$. Based on the choice of $\\pi$, we can classify TD error into two methods: SARSA learning and ${\\cal Q}$-Learning. \n",
    "\n",
    "In SARSA learning (**S**tate **A**ction **R**eward **S**tate **A**ction learning), the agent always follows the **newest** policy and use this policy to update the ${\\cal Q}$ values\n",
    "\n",
    "\\begin{align}\n",
    "TD_{SARSA} = r({s_t},{a_t}) + \\gamma {\\cal Q}(s_{t+1},a_{t+1}) - {\\cal Q}^{\\pi}(s_t,a_t)\n",
    "\\end{align}\n",
    "\n",
    "Meanwhile, in ${\\cal Q}$-Learning, $a'$ is chosen to maximize the ${\\cal Q}$ value. The action $a'$ can be generated from past policies.\n",
    "\n",
    "\\begin{align}\n",
    "TD_{Q-Learning} = r({s_t},{a_t}) + \\gamma \\max \\limits _{a'} {\\cal Q}^{\\pi}(s_{t+1},a') - {\\cal Q}^\\pi(s_t,a_t)\n",
    "\\end{align}\n",
    "\n",
    "Now, it's time to see the difference between SARSA and Q-Learning based on Cart-pole problem.\n",
    "\n",
    "Create class **QLearningAgent** as follows:"
   ]
  },
  {
   "cell_type": "code",
   "execution_count": 22,
   "metadata": {
    "collapsed": true,
    "slideshow": {
     "slide_type": "slide"
    }
   },
   "outputs": [],
   "source": [
    "class QLearningAgent(object):\n",
    "    def __init__(self):\n",
    "        self.gamma = 1.0\n",
    "        self.eps = 1.0\n",
    "        self.alpha = 1.0\n",
    "\n",
    "        self.Q = np.zeros((512, 2))\n",
    "\n",
    "    def policy(self, state):\n",
    "        state_idx = get_state_idx(state)\n",
    "\n",
    "        random = np.random.rand(1)[0]\n",
    "        if random > self.eps:\n",
    "            action_values = self.Q[state_idx, :]\n",
    "            return np.argmax(action_values)\n",
    "        else:\n",
    "            return np.random.randint(0, 2)\n",
    "\n",
    "    def update_epsilon(self, t):\n",
    "        # Update epsilon\n",
    "        self.eps =  max(0.01, min(1.0, 1.0 - np.log((t + 1) / 100)))\n",
    "\n",
    "    def update_alpha(self, t):\n",
    "        # Update alpha\n",
    "        self.alpha =  max(0.01, min(1.0, 1.0 - np.log((t + 1) / 100)))\n",
    "\n",
    "    def update(self, state, action, next_state, reward):\n",
    "\n",
    "        state_idx = get_state_idx(state)\n",
    "        next_state_idx = get_state_idx(next_state)\n",
    "\n",
    "        # TD Update\n",
    "        maxQ = np.max(self.Q[next_state_idx, :])\n",
    "        target_Q = reward + self.gamma * maxQ\n",
    "        self.Q[state_idx, action] += self.alpha * (target_Q - self.Q[state_idx, action])"
   ]
  },
  {
   "cell_type": "markdown",
   "metadata": {},
   "source": [
    "##### Run Q-Learning algorithm and report performance. Pseudocode as follows:"
   ]
  },
  {
   "cell_type": "code",
   "execution_count": 23,
   "metadata": {},
   "outputs": [
    {
     "name": "stderr",
     "output_type": "stream",
     "text": [
      "[2019-01-15 10:50:24,171] Making new env: CartPole-v1\n",
      "/anaconda/lib/python2.7/site-packages/ipykernel_launcher.py:21: RuntimeWarning: divide by zero encountered in log\n",
      "/anaconda/lib/python2.7/site-packages/ipykernel_launcher.py:25: RuntimeWarning: divide by zero encountered in log\n"
     ]
    },
    {
     "name": "stdout",
     "output_type": "stream",
     "text": [
      "Episode:0 | Avg Reward: 33.0\n",
      "Episode:250 | Avg Reward: 45.23\n",
      "Episode:500 | Avg Reward: 497.05\n",
      "Episode:750 | Avg Reward: 493.66\n",
      "Episode:1000 | Avg Reward: 496.98\n",
      "Episode:1250 | Avg Reward: 500.0\n",
      "Episode:1500 | Avg Reward: 498.77\n",
      "Episode:1750 | Avg Reward: 495.81\n",
      "Episode:2000 | Avg Reward: 494.19\n",
      "Episode:2250 | Avg Reward: 495.94\n",
      "Episode:2500 | Avg Reward: 497.53\n",
      "Episode:2750 | Avg Reward: 493.73\n",
      "Episode:3000 | Avg Reward: 491.18\n",
      "Episode:3250 | Avg Reward: 497.1\n",
      "Episode:3500 | Avg Reward: 437.18\n",
      "Episode:3750 | Avg Reward: 496.97\n",
      "Episode:4000 | Avg Reward: 495.26\n",
      "Episode:4250 | Avg Reward: 500.0\n",
      "Episode:4500 | Avg Reward: 498.97\n",
      "Episode:4750 | Avg Reward: 494.16\n",
      "Episode:5000 | Avg Reward: 500.0\n",
      "Episode:5250 | Avg Reward: 496.35\n",
      "Episode:5500 | Avg Reward: 499.23\n",
      "Episode:5750 | Avg Reward: 496.16\n",
      "Episode:6000 | Avg Reward: 495.03\n",
      "Episode:6250 | Avg Reward: 490.0\n",
      "Episode:6500 | Avg Reward: 476.57\n",
      "Episode:6750 | Avg Reward: 492.17\n",
      "Episode:7000 | Avg Reward: 497.96\n",
      "Episode:7250 | Avg Reward: 500.0\n",
      "Episode:7500 | Avg Reward: 498.31\n",
      "Episode:7750 | Avg Reward: 497.3\n",
      "Episode:8000 | Avg Reward: 485.38\n",
      "Episode:8250 | Avg Reward: 476.65\n",
      "Episode:8500 | Avg Reward: 500.0\n",
      "Episode:8750 | Avg Reward: 495.65\n",
      "Episode:9000 | Avg Reward: 500.0\n",
      "Episode:9250 | Avg Reward: 495.34\n",
      "Episode:9500 | Avg Reward: 495.34\n",
      "Episode:9750 | Avg Reward: 460.06\n"
     ]
    },
    {
     "data": {
      "image/png": "[encoded data removed]",
      "text/plain": [
       "<matplotlib.figure.Figure at 0x10dad7d90>"
      ]
     },
     "metadata": {},
     "output_type": "display_data"
    }
   ],
   "source": [
    "def q_learning():\n",
    "    qlearning_avg_rewards = []\n",
    "    env = gym.make('CartPole-v1')\n",
    "    np.random.seed(123)\n",
    "    env.seed(123)\n",
    "    agent = QLearningAgent()\n",
    "    scores = deque(maxlen=100)\n",
    "\n",
    "    for epi in range(10000):\n",
    "        # Run each episode\n",
    "        state = env.reset()\n",
    "        total_reward = 0\n",
    "        for i in range(500):\n",
    "            action = agent.policy(state)\n",
    "            next_state, reward, done, info = env.step(action)\n",
    "            # update\n",
    "            agent.update(state, action, next_state, reward)\n",
    "\n",
    "            state = next_state\n",
    "            total_reward += 1\n",
    "            if done:\n",
    "                break\n",
    "\n",
    "        # for plot\n",
    "        scores.append(total_reward)\n",
    "        qlearning_avg_rewards.append(np.mean(scores))\n",
    "\n",
    "        if (epi%250==0):\n",
    "            print(\"Episode:\" + str(epi) +\" | Avg Reward: \" + str(qlearning_avg_rewards[epi]))\n",
    "\n",
    "        agent.update_epsilon(epi)\n",
    "        agent.update_alpha(epi)\n",
    "\n",
    "    return qlearning_avg_rewards\n",
    "    \n",
    "# plot\n",
    "qlearning_avg_rewards = q_learning()\n",
    "plt.plot(range(10000),qlearning_avg_rewards)\n",
    "plt.plot(range(10000),mc_avg_rewards)\n",
    "plt.legend(['QLearning', \"Monte Carlo\"])\n",
    "plt.show() "
   ]
  },
  {
   "cell_type": "markdown",
   "metadata": {},
   "source": [
    "##### SARSA algorithm"
   ]
  },
  {
   "cell_type": "code",
   "execution_count": 24,
   "metadata": {
    "collapsed": true
   },
   "outputs": [],
   "source": [
    "class SARSAAgent(object):\n",
    "    def __init__(self):\n",
    "        self.gamma = 1.0\n",
    "        self.eps = 1.0\n",
    "        self.alpha = 1.0\n",
    "\n",
    "        self.Q = np.zeros((512, 2))\n",
    "\n",
    "    def policy(self, state):\n",
    "        state_idx = get_state_idx(state)\n",
    "\n",
    "        random = np.random.rand(1)[0]\n",
    "        if random > self.eps:\n",
    "            action_values = self.Q[state_idx, :]\n",
    "            return np.argmax(action_values)\n",
    "        else:\n",
    "            return np.random.randint(0, 2)\n",
    "\n",
    "    def update_epsilon(self, t):\n",
    "        # Update epsilon\n",
    "        self.eps =  max(0.01, min(1.0, 1.0 - np.log((t + 1) / 100)))\n",
    "\n",
    "    def update_alpha(self, t):\n",
    "        # Update alpha\n",
    "        self.alpha = 0.075\n",
    "        # self.alpha =  max(0.05, min(1.0, 1.0 - np.log((t + 1) / 100)))\n",
    "\n",
    "    def update(self, state, action, next_state, reward):\n",
    "\n",
    "        state_idx = get_state_idx(state)\n",
    "        next_state_idx = get_state_idx(next_state)\n",
    "\n",
    "        # TD Update\n",
    "        next_action = self.policy(next_state)\n",
    "        target_Q = reward + self.gamma * self.Q[next_state_idx, next_action]\n",
    "        self.Q[state_idx, action] += self.alpha * (target_Q - self.Q[state_idx, action])\n"
   ]
  },
  {
   "cell_type": "code",
   "execution_count": 25,
   "metadata": {
    "scrolled": true
   },
   "outputs": [
    {
     "name": "stderr",
     "output_type": "stream",
     "text": [
      "[2019-01-15 10:57:29,462] Making new env: CartPole-v1\n",
      "/anaconda/lib/python2.7/site-packages/ipykernel_launcher.py:21: RuntimeWarning: divide by zero encountered in log\n"
     ]
    },
    {
     "name": "stdout",
     "output_type": "stream",
     "text": [
      "Episode:0 | Avg Reward: 21.0\n",
      "Episode:1000 | Avg Reward: 95.27\n",
      "Episode:2000 | Avg Reward: 183.75\n",
      "Episode:3000 | Avg Reward: 478.46\n",
      "Episode:4000 | Avg Reward: 473.09\n",
      "Episode:5000 | Avg Reward: 493.62\n",
      "Episode:6000 | Avg Reward: 450.53\n",
      "Episode:7000 | Avg Reward: 486.52\n",
      "Episode:8000 | Avg Reward: 454.54\n",
      "Episode:9000 | Avg Reward: 500.0\n"
     ]
    },
    {
     "data": {
      "image/png": "[encoded data removed]",
      "text/plain": [
       "<matplotlib.figure.Figure at 0x10dd04050>"
      ]
     },
     "metadata": {},
     "output_type": "display_data"
    }
   ],
   "source": [
    "def sarsa():\n",
    "    sarsa_avg_rewards = []\n",
    "    env = gym.make('CartPole-v1')\n",
    "    np.random.seed(123)\n",
    "    env.seed(123)\n",
    "    agent = SARSAAgent()\n",
    "    scores = deque(maxlen=100)\n",
    "\n",
    "    for epi in range(10000):\n",
    "        # Run each episode\n",
    "        state = env.reset()\n",
    "        total_reward = 0\n",
    "        for i in range(500):\n",
    "            action = agent.policy(state)\n",
    "            next_state, reward, done, info = env.step(action)\n",
    "            # update\n",
    "            agent.update(state, action, next_state, reward)\n",
    "\n",
    "            state = next_state\n",
    "            total_reward += 1\n",
    "            if done:\n",
    "                break\n",
    "\n",
    "        # for plot\n",
    "        scores.append(total_reward)\n",
    "        sarsa_avg_rewards.append(np.mean(scores))\n",
    "        \n",
    "        if (epi%1000==0):\n",
    "            print(\"Episode:\" + str(epi) +\" | Avg Reward: \" + str(sarsa_avg_rewards[epi]))\n",
    "            \n",
    "        agent.update_epsilon(epi)\n",
    "        agent.update_alpha(epi)\n",
    "\n",
    "    return sarsa_avg_rewards\n",
    "\n",
    "# plot\n",
    "sarsa_avg_rewards = sarsa()\n",
    "plt.plot(range(10000),sarsa_avg_rewards)\n",
    "plt.plot(range(10000),qlearning_avg_rewards)\n",
    "plt.plot(range(10000),mc_avg_rewards)\n",
    "plt.legend([\"SARSA\",'QLearning', \"Monte Carlo\"])\n",
    "plt.show()"
   ]
  },
  {
   "cell_type": "markdown",
   "metadata": {},
   "source": [
    "##### Summary on Value-based Approach\n",
    "\n",
    "- Dynamic programming for *known* model (MDP)\n",
    "- Monte-Carlo and Temporal Difference for *unknown model*"
   ]
  },
  {
   "cell_type": "markdown",
   "metadata": {},
   "source": [
    "### Policy-based Approach\n",
    "\n",
    "##### Finite Difference Policy Gradient"
   ]
  },
  {
   "cell_type": "code",
   "execution_count": 26,
   "metadata": {
    "collapsed": true
   },
   "outputs": [],
   "source": [
    "class SigmoidAgent:\n",
    "\n",
    "    def __init__(self):\n",
    "        self.thetas = np.random.rand(4) * 2 - 1\n",
    "\n",
    "    def sigmoid(self, state):\n",
    "        z = state.dot(self.thetas)\n",
    "        return 1 / (1 + np.exp(-z))\n",
    "\n",
    "    def policy(self, state):\n",
    "        probs = self.sigmoid(state)\n",
    "        return np.random.binomial(n=1, p=probs, size=1)[0]"
   ]
  },
  {
   "cell_type": "code",
   "execution_count": 27,
   "metadata": {
    "collapsed": true
   },
   "outputs": [],
   "source": [
    "def findTheBestLearningRateUsingLineSearch(grads, env, agent):\n",
    "    best_alpha = 0.0\n",
    "    best_value = -1000000000000\n",
    "    numEval = 40\n",
    "    backup_params = np.copy(agent.thetas)\n",
    "    for grid in range(numEval):\n",
    "        alpha_new = 0.01 * (((1.1)**(grid-1))-1) + 0.0000001;\n",
    "\n",
    "        theta_new = backup_params + alpha_new * grads;\n",
    "        agent.thetas = theta_new\n",
    "\n",
    "        states, actions, rewards = run_episode(env, agent)\n",
    "        if (np.sum(rewards) > best_value):\n",
    "            best_value = np.sum(rewards);\n",
    "            best_alpha = alpha_new;\n",
    "\n",
    "    agent.thetas = backup_params\n",
    "    return best_alpha"
   ]
  },
  {
   "cell_type": "code",
   "execution_count": 31,
   "metadata": {},
   "outputs": [
    {
     "name": "stderr",
     "output_type": "stream",
     "text": [
      "[2019-01-15 11:10:14,046] Making new env: CartPole-v1\n",
      "/anaconda/lib/python2.7/site-packages/ipykernel_launcher.py:8: RuntimeWarning: overflow encountered in exp\n",
      "  \n"
     ]
    },
    {
     "name": "stdout",
     "output_type": "stream",
     "text": [
      "Episode:0 | Avg Reward: 36.0\n",
      "Episode:1000 | Avg Reward: 10.74\n",
      "Episode:2000 | Avg Reward: 500.0\n",
      "Episode:3000 | Avg Reward: 183.57\n",
      "Episode:4000 | Avg Reward: 10.21\n"
     ]
    },
    {
     "data": {
      "image/png": "[encoded data removed]",
      "text/plain": [
       "<matplotlib.figure.Figure at 0x10a6f0d90>"
      ]
     },
     "metadata": {},
     "output_type": "display_data"
    }
   ],
   "source": [
    "def fd():\n",
    "    env = gym.make('CartPole-v1')\n",
    "    np.random.seed(123)\n",
    "    env.seed(123)\n",
    "    agent = SigmoidAgent()\n",
    "\n",
    "    # hyper parameters\n",
    "    learning_rate = 0.000000004\n",
    "    eps = 1e-7\n",
    "\n",
    "    fd_avg_rewards = []\n",
    "    scores = deque(maxlen=100)\n",
    "\n",
    "    grads = np.asarray(agent.thetas)\n",
    "    for epi in range(5000):\n",
    "        # For each parameter of policy\n",
    "        # Evaluate Ws\n",
    "        _,_,rewards = run_episode(env, agent)\n",
    "        J = np.sum(rewards)\n",
    "\n",
    "        cur_params = np.copy(agent.thetas)\n",
    "        for i in range(agent.thetas.shape[0]):\n",
    "            agent.thetas[i] = agent.thetas[i] + eps\n",
    "            _,_,rewards = run_episode(env, agent)\n",
    "            Jplus = np.sum(rewards)\n",
    "\n",
    "            grads[i] = (Jplus - J) / eps\n",
    "\n",
    "        agent.thetas = cur_params\n",
    "        # Weight update\n",
    "#         learning_rate = findTheBestLearningRateUsingLineSearch(grads, env, agent)\n",
    "        agent.thetas += learning_rate * grads\n",
    "\n",
    "        # for plot\n",
    "        scores.append(J)\n",
    "        fd_avg_rewards.append(np.mean(scores))\n",
    "        if (epi%1000==0):\n",
    "            print(\"Episode:\" + str(epi) +\" | Avg Reward: \" + str(fd_avg_rewards[epi]))\n",
    "    \n",
    "    return fd_avg_rewards\n",
    "\n",
    "# plot\n",
    "fd_avg_rewards = fd()\n",
    "plt.plot(range(5000),fd_avg_rewards[0:5000])\n",
    "plt.plot(range(5000),sarsa_avg_rewards[0:5000])\n",
    "plt.plot(range(5000),qlearning_avg_rewards[0:5000])\n",
    "plt.plot(range(5000),mc_avg_rewards[0:5000])\n",
    "plt.legend([\"FD\",\"SARSA\",'QLearning', \"Monte Carlo\"])\n",
    "plt.show()"
   ]
  },
  {
   "cell_type": "markdown",
   "metadata": {},
   "source": [
    "##### REINFORCE (Monte-Carlo policy gradient)"
   ]
  },
  {
   "cell_type": "code",
   "execution_count": 33,
   "metadata": {},
   "outputs": [
    {
     "name": "stderr",
     "output_type": "stream",
     "text": [
      "[2019-01-15 11:13:20,782] Making new env: CartPole-v1\n"
     ]
    },
    {
     "name": "stdout",
     "output_type": "stream",
     "text": [
      "Episode:0 | Avg Reward: 36.0\n",
      "Episode:1000 | Avg Reward: 344.71\n",
      "Episode:2000 | Avg Reward: 313.05\n",
      "Episode:3000 | Avg Reward: 360.86\n",
      "Episode:4000 | Avg Reward: 500.0\n"
     ]
    },
    {
     "data": {
      "image/png": "[encoded data removed]",
      "text/plain": [
       "<matplotlib.figure.Figure at 0x10e15a590>"
      ]
     },
     "metadata": {},
     "output_type": "display_data"
    }
   ],
   "source": [
    "def reinforce():\n",
    "    env = gym.make('CartPole-v1')\n",
    "    np.random.seed(123)\n",
    "    env.seed(123)\n",
    "    agent = SigmoidAgent()\n",
    "\n",
    "    # hyper parameters\n",
    "    learning_rate = 0.001\n",
    "    gamma = 0.99\n",
    "\n",
    "    reinforce_avg_rewards = []\n",
    "    scores = deque(maxlen=100)\n",
    "\n",
    "    for e in range(5000):\n",
    "\n",
    "        states, actions, rewards = run_episode(env, agent)\n",
    "        discounted_reward = get_discounted_rewards(rewards, gamma)\n",
    "\n",
    "        probs = agent.sigmoid(states)\n",
    "        grads = discounted_reward * \\\n",
    "                (-(1. - actions) *\n",
    "                 probs + (actions * (1. - probs) )) * \\\n",
    "                states.T\n",
    "\n",
    "        agent.thetas += learning_rate * np.sum(grads, axis=1)\n",
    "\n",
    "        # Append for logging and print\n",
    "        scores.append(np.sum(rewards))\n",
    "        reinforce_avg_rewards.append(np.mean(scores))\n",
    "        if (e%1000==0):\n",
    "            print(\"Episode:\" + str(e) +\" | Avg Reward: \" + str(reinforce_avg_rewards[e]))\n",
    "            \n",
    "    return reinforce_avg_rewards\n",
    "\n",
    "# plot\n",
    "reinforce_avg_rewards = reinforce()\n",
    "plt.plot(range(5000),fd_avg_rewards)\n",
    "plt.plot(range(5000),reinforce_avg_rewards)\n",
    "plt.legend([\"FD\",'REINFORCE'])\n",
    "plt.show()"
   ]
  },
  {
   "cell_type": "markdown",
   "metadata": {
    "collapsed": true
   },
   "source": [
    "##### Natural Policy Gradient"
   ]
  },
  {
   "cell_type": "code",
   "execution_count": 34,
   "metadata": {},
   "outputs": [
    {
     "name": "stderr",
     "output_type": "stream",
     "text": [
      "[2019-01-15 11:15:01,627] Making new env: CartPole-v1\n"
     ]
    },
    {
     "name": "stdout",
     "output_type": "stream",
     "text": [
      "Episode:0 | Avg Reward: 36.0\n",
      "Episode:250 | Avg Reward: 459.15\n",
      "Episode:500 | Avg Reward: 488.35\n",
      "Episode:750 | Avg Reward: 383.0\n",
      "Episode:1000 | Avg Reward: 460.47\n",
      "Episode:1250 | Avg Reward: 406.01\n",
      "Episode:1500 | Avg Reward: 461.47\n",
      "Episode:1750 | Avg Reward: 450.06\n"
     ]
    },
    {
     "data": {
      "image/png": "[encoded data removed]",
      "text/plain": [
       "<matplotlib.figure.Figure at 0x10a6f0a10>"
      ]
     },
     "metadata": {},
     "output_type": "display_data"
    }
   ],
   "source": [
    "def npg():\n",
    "    env = gym.make('CartPole-v1')\n",
    "    np.random.seed(123)\n",
    "    env.seed(123)\n",
    "    agent = SigmoidAgent()\n",
    "\n",
    "    # hyper parameters\n",
    "    gamma = 0.99\n",
    "\n",
    "    npg_avg_rewards = []\n",
    "    scores = deque(maxlen=100)\n",
    "\n",
    "    for e in range(2000):\n",
    "\n",
    "        states, actions, rewards = run_episode(env, agent)\n",
    "        discounted_reward = get_discounted_rewards(rewards, gamma)\n",
    "\n",
    "        probs = agent.sigmoid(states)\n",
    "        dLogPi = (-(1. - actions) * probs + (actions * (1. - probs) )) * states.T\n",
    "        sumDLogPi = np.sum(dLogPi, axis=1)\n",
    "        F = np.dot(sumDLogPi.reshape(-1,1), sumDLogPi.reshape(1,-1))\n",
    "\n",
    "        vanilla_grads = sumDLogPi * discounted_reward[0]\n",
    "        natural_grads = np.dot(np.linalg.pinv(F),vanilla_grads)\n",
    "\n",
    "        learning_rate = findTheBestLearningRateUsingLineSearch(natural_grads, env, agent)\n",
    "        agent.thetas += learning_rate * natural_grads\n",
    "\n",
    "        # Append for logging and print\n",
    "        scores.append(np.sum(rewards))\n",
    "        npg_avg_rewards.append(np.mean(scores))\n",
    "        if (e%250==0):\n",
    "            print(\"Episode:\" + str(e) +\" | Avg Reward: \" + str(npg_avg_rewards[e]))\n",
    "\n",
    "    return npg_avg_rewards\n",
    "\n",
    "# plot\n",
    "npg_avg_rewards = npg()\n",
    "plt.plot(range(2000),npg_avg_rewards[0:2000])\n",
    "plt.plot(range(2000),fd_avg_rewards[0:2000])\n",
    "plt.plot(range(2000),reinforce_avg_rewards[0:2000])\n",
    "plt.legend([\"NPG\",\"FD\",'REINFORCE'])\n",
    "plt.show()"
   ]
  },
  {
   "cell_type": "markdown",
   "metadata": {
    "collapsed": true
   },
   "source": [
    "### Actor Critic Approach\n",
    "\n",
    "Using A, Q, V insteads of R to reduce the variance"
   ]
  },
  {
   "cell_type": "code",
   "execution_count": 35,
   "metadata": {
    "collapsed": true
   },
   "outputs": [],
   "source": [
    "class ACAgent:\n",
    "\n",
    "    def __init__(self):\n",
    "        # actor params\n",
    "        self.thetas = np.random.rand(4) * 2 - 1\n",
    "        # critic params\n",
    "        self.Ws = np.random.rand(4) * 2 - 1\n",
    "\n",
    "    def sigmoid(self, state):\n",
    "        z = state.dot(self.theta)\n",
    "        return 1 / (1 + np.exp(-z))\n",
    "\n",
    "    def policy(self, state):\n",
    "        probs = self.sigmoid(state)\n",
    "        return np.random.binomial(n=1, p=probs, size=1)[0]\n",
    "\n",
    "    def get_dW(self, rewards, states, gamma):\n",
    "        approximated_V = self.get_V(states)\n",
    "        approximated_Q = get_discounted_rewards(rewards, gamma)\n",
    "        grads = ((approximated_Q - approximated_V) * states.T).sum(axis=1)\n",
    "\n",
    "        return grads\n",
    "\n",
    "    def get_dAlpha(self, states, actions, adv):\n",
    "        probs = self.sigmoid(states)\n",
    "        grads = adv * \\\n",
    "                (-(1. - actions) *\n",
    "                 probs + (actions * (1. - probs))) * \\\n",
    "                states.T\n",
    "\n",
    "        return grads\n",
    "\n",
    "    def get_V(self, state):\n",
    "        return np.dot(state, self.W)"
   ]
  },
  {
   "cell_type": "code",
   "execution_count": 36,
   "metadata": {},
   "outputs": [
    {
     "name": "stderr",
     "output_type": "stream",
     "text": [
      "[2019-01-15 11:27:09,372] Making new env: CartPole-v1\n"
     ]
    },
    {
     "name": "stdout",
     "output_type": "stream",
     "text": [
      "Episode:0 | Avg Reward: 52.0\n",
      "Episode:250 | Avg Reward: 63.07\n",
      "Episode:500 | Avg Reward: 214.13\n",
      "Episode:750 | Avg Reward: 287.81\n",
      "Episode:1000 | Avg Reward: 359.52\n",
      "Episode:1250 | Avg Reward: 259.68\n",
      "Episode:1500 | Avg Reward: 382.44\n",
      "Episode:1750 | Avg Reward: 190.16\n",
      "Episode:2000 | Avg Reward: 460.67\n",
      "Episode:2250 | Avg Reward: 467.12\n",
      "Episode:2500 | Avg Reward: 397.27\n",
      "Episode:2750 | Avg Reward: 308.62\n",
      "Episode:3000 | Avg Reward: 348.83\n",
      "Episode:3250 | Avg Reward: 500.0\n",
      "Episode:3500 | Avg Reward: 486.42\n",
      "Episode:3750 | Avg Reward: 498.21\n"
     ]
    },
    {
     "data": {
      "image/png": "[encoded data removed]",
      "text/plain": [
       "<matplotlib.figure.Figure at 0x10e15a450>"
      ]
     },
     "metadata": {},
     "output_type": "display_data"
    }
   ],
   "source": [
    "def actor_critic():\n",
    "    env = gym.make('CartPole-v1')\n",
    "    np.random.seed(123)\n",
    "    env.seed(123)\n",
    "    agent = ACAgent()\n",
    "\n",
    "    # hyper parameters\n",
    "    actor_learning_rate = 0.001\n",
    "    critic_learning_rate = 1.e-5\n",
    "    gamma = 0.99\n",
    "\n",
    "    ac_avg_rewards = []\n",
    "    scores = deque(maxlen=100)\n",
    "\n",
    "    for e in range(4000):\n",
    "\n",
    "        states, actions, rewards = run_episode(env, agent)\n",
    "\n",
    "        # Critic update\n",
    "        dW = agent.get_dW(rewards, states, gamma)\n",
    "        agent.Ws += critic_learning_rate * dW\n",
    "\n",
    "        # Actor update\n",
    "        adv = get_discounted_rewards(rewards, gamma) - agent.get_V(states)\n",
    "        dTheta = agent.get_dAlpha(states, actions, adv)\n",
    "\n",
    "        agent.thetas += actor_learning_rate * np.sum(dTheta, axis=1)\n",
    "\n",
    "        # Append for logging and print\n",
    "        scores.append(np.sum(rewards))\n",
    "        ac_avg_rewards.append(np.mean(scores))\n",
    "        if (e%250==0):\n",
    "            print(\"Episode:\" + str(e) +\" | Avg Reward: \" + str(ac_avg_rewards[e]))\n",
    "    \n",
    "    return ac_avg_rewards\n",
    "\n",
    "# plot\n",
    "ac_avg_rewards = actor_critic()\n",
    "plt.plot(range(2000),ac_avg_rewards[0:2000])\n",
    "plt.plot(range(2000),reinforce_avg_rewards[0:2000])\n",
    "plt.plot(range(2000),npg_avg_rewards[0:2000])\n",
    "plt.legend([\"AC\",'REINFORCE',\"NPG\"])\n",
    "plt.show()"
   ]
  },
  {
   "cell_type": "markdown",
   "metadata": {},
   "source": [
    "# Deep Reinforcement Learning?\n",
    "\n",
    "### From Q-Learning to DQN"
   ]
  },
  {
   "cell_type": "code",
   "execution_count": 37,
   "metadata": {},
   "outputs": [
    {
     "ename": "ImportError",
     "evalue": "cannot import name keras",
     "output_type": "error",
     "traceback": [
      "\u001b[0;31m---------------------------------------------------------------------------\u001b[0m",
      "\u001b[0;31mImportError\u001b[0m                               Traceback (most recent call last)",
      "\u001b[0;32m<ipython-input-37-3d1e6d42ad48>\u001b[0m in \u001b[0;36m<module>\u001b[0;34m()\u001b[0m\n\u001b[1;32m      1\u001b[0m \u001b[0;32mimport\u001b[0m \u001b[0mtensorflow\u001b[0m \u001b[0;32mas\u001b[0m \u001b[0mtf\u001b[0m\u001b[0;34m\u001b[0m\u001b[0m\n\u001b[0;32m----> 2\u001b[0;31m \u001b[0;32mfrom\u001b[0m \u001b[0mtensorflow\u001b[0m \u001b[0;32mimport\u001b[0m \u001b[0mkeras\u001b[0m\u001b[0;34m\u001b[0m\u001b[0m\n\u001b[0m",
      "\u001b[0;31mImportError\u001b[0m: cannot import name keras"
     ]
    }
   ],
   "source": [
    "import tensorflow as tf\n",
    "from tensorflow import keras"
   ]
  },
  {
   "cell_type": "code",
   "execution_count": 33,
   "metadata": {
    "collapsed": true
   },
   "outputs": [],
   "source": [
    "class DQNAgent:\n",
    "    def __init__(self, state_size, action_size):\n",
    "\n",
    "        # get size of state and action\n",
    "        self.state_size = state_size\n",
    "        self.action_size = action_size\n",
    "\n",
    "        # Hyperparameters\n",
    "        self.discount_factor = 0.99\n",
    "        self.learning_rate = 0.001\n",
    "        self.eps = 1.0\n",
    "        self.eps_decay = 0.999\n",
    "        self.eps_min = 0.01\n",
    "        self.batch_size = 64\n",
    "        self.train_start = 1000\n",
    "\n",
    "        # create replay memory using deque\n",
    "        self.memory = deque(maxlen=2000)\n",
    "\n",
    "        # create main model and target model\n",
    "        self.model = self.build_model()\n",
    "        self.target_model = self.build_model()\n",
    "\n",
    "        # initialize target model\n",
    "        self.update_target_model()\n",
    "\n",
    "    # approximate Q function using Neural Network\n",
    "    def build_model(self):\n",
    "\n",
    "        model = keras.models.Sequential()\n",
    "        model.add(keras.layers.Dense(units=5,\n",
    "                                     input_dim=self.state_size,\n",
    "                                     activation='relu'))\n",
    "        model.add(keras.layers.Dense(units=5,\n",
    "                                     activation='relu'))\n",
    "        model.add(keras.layers.Dense(self.action_size,\n",
    "                                     activation='linear'))\n",
    "        model.compile(loss='mse',\n",
    "                      optimizer=keras.optimizers.Adam(lr=self.learning_rate))\n",
    "        return model\n",
    "\n",
    "    # after some time interval update the target model to be same with model\n",
    "    def update_target_model(self):\n",
    "        self.target_model.set_weights(self.model.get_weights())\n",
    "\n",
    "    # get action from model using epsilon-greedy policy\n",
    "    def policy(self, state):\n",
    "        if np.random.rand() <= self.eps:\n",
    "            return np.random.randint(0, self.action_size)\n",
    "        else:\n",
    "            q_value = self.model.predict(state)\n",
    "            return np.argmax(q_value[0])\n",
    "\n",
    "    # save sample <s,a,r,s',done> to the replay memory\n",
    "    def append_sample(self, state, action, reward, next_state, done):\n",
    "        self.memory.append((state, action, reward, next_state, done))\n",
    "        if self.eps > self.eps_min:\n",
    "            self.eps *= self.eps_decay\n",
    "\n",
    "    # pick samples randomly from replay memory (with batch_size)\n",
    "    def train_model(self):\n",
    "        if len(self.memory) < self.train_start:\n",
    "            return\n",
    "\n",
    "        batch_size = min(self.batch_size, len(self.memory))\n",
    "        mini_batch = random.sample(self.memory, batch_size)\n",
    "\n",
    "        update_input = np.zeros((batch_size, self.state_size))\n",
    "        update_target = np.zeros((batch_size, self.state_size))\n",
    "        action, reward, done = [], [], []\n",
    "\n",
    "        for i in range(self.batch_size):\n",
    "            update_input[i] = mini_batch[i][0]\n",
    "            action.append(mini_batch[i][1])\n",
    "            reward.append(mini_batch[i][2])\n",
    "            update_target[i] = mini_batch[i][3]\n",
    "            done.append(mini_batch[i][4])\n",
    "\n",
    "        target = self.model.predict(update_input)\n",
    "        target_val = self.target_model.predict(update_target)\n",
    "\n",
    "        for i in range(self.batch_size):\n",
    "            # Q Learning: get maximum Q value at s' from target model\n",
    "            if done[i]:\n",
    "                target[i][action[i]] = reward[i]\n",
    "            else:\n",
    "                target[i][action[i]] = reward[i] + self.discount_factor * (\n",
    "                    np.amax(target_val[i]))\n",
    "\n",
    "        # and do the model fit!\n",
    "        self.model.fit(update_input, target,\n",
    "                       batch_size=self.batch_size,\n",
    "                       epochs=1,\n",
    "                       verbose=0)"
   ]
  },
  {
   "cell_type": "code",
   "execution_count": 42,
   "metadata": {},
   "outputs": [
    {
     "name": "stdout",
     "output_type": "stream",
     "text": [
      "Episode:0 | Avg Reward: 33.0\n",
      "Episode:250 | Avg Reward: 48.01\n",
      "Episode:500 | Avg Reward: 177.22\n",
      "Episode:750 | Avg Reward: 253.5\n",
      "Episode:1000 | Avg Reward: 349.01\n",
      "Episode:1250 | Avg Reward: 184.35\n",
      "Episode:1500 | Avg Reward: 225.26\n",
      "Episode:1750 | Avg Reward: 239.24\n"
     ]
    },
    {
     "data": {
      "image/png": "[encoded data removed]",
      "text/plain": [
       "<matplotlib.figure.Figure at 0x7fa00cfac990>"
      ]
     },
     "metadata": {},
     "output_type": "display_data"
    }
   ],
   "source": [
    "def dqn():\n",
    "    env = gym.make('CartPole-v1')\n",
    "    np.random.seed(123)\n",
    "    env.seed(123)\n",
    "    random.seed(123)\n",
    "    state_size = env.observation_space.shape[0]\n",
    "    action_size = env.action_space.n\n",
    "    agent = DQNAgent(state_size, action_size)\n",
    "\n",
    "    dqn_avg_rewards = []\n",
    "    scores = deque(maxlen=100)\n",
    "\n",
    "    for e in range(2000):\n",
    "        done = False\n",
    "        score = 0\n",
    "        state = env.reset()\n",
    "        state = np.reshape(state, [1, state_size])\n",
    "        while not done:\n",
    "            # get action for the current state and go one step in environment\n",
    "            action = agent.policy(state)\n",
    "            next_state, reward, done, info = env.step(action)\n",
    "            next_state = np.reshape(next_state, [1, state_size])\n",
    "\n",
    "            # save the sample <s, a, r, s', done> to the replay memory\n",
    "            agent.append_sample(state, action, reward, next_state, done)\n",
    "            # every time step do the training\n",
    "            agent.train_model()\n",
    "\n",
    "            score += reward\n",
    "            state = next_state\n",
    "\n",
    "            if done:\n",
    "                # every episode update the target model to be same with model\n",
    "                agent.update_target_model()\n",
    "\n",
    "                scores.append(score)\n",
    "                dqn_avg_rewards.append(np.mean(scores))\n",
    "                if (e%250==0):\n",
    "                    print(\"Episode:\" + str(e) +\" | Avg Reward: \" + str(dqn_avg_rewards[e]))\n",
    "    \n",
    "    return dqn_avg_rewards\n",
    "                    \n",
    "# plot\n",
    "dqn_avg_rewards = dqn()\n",
    "plt.plot(range(2000),dqn_avg_rewards[0:2000])\n",
    "plt.plot(range(2000),reinforce_avg_rewards[0:2000])\n",
    "plt.legend([\"DQN\",'REINFORCE'])\n",
    "plt.show()"
   ]
  },
  {
   "cell_type": "markdown",
   "metadata": {},
   "source": [
    "### From Policy Gradient to Deep Policy Gradient"
   ]
  },
  {
   "cell_type": "code",
   "execution_count": 44,
   "metadata": {
    "collapsed": true
   },
   "outputs": [],
   "source": [
    "class DPGAgent:\n",
    "    def __init__(self, state_size, action_size):\n",
    "        # get size of state and action\n",
    "        self.state_size = state_size\n",
    "        self.action_size = action_size\n",
    "\n",
    "        # These are hyper parameters\n",
    "        self.discount_factor = 0.99\n",
    "        self.learning_rate = 0.001\n",
    "\n",
    "        # create model for policy network\n",
    "        self.model = self.build_model()\n",
    "\n",
    "        # lists for the states, actions and rewards\n",
    "        self.states, self.actions, self.rewards = [], [], []\n",
    "\n",
    "    # approximate policy using Neural Network\n",
    "    def build_model(self):\n",
    "        model = keras.models.Sequential()\n",
    "        model.add(keras.layers.Dense(units=5,\n",
    "                                     input_dim=self.state_size,\n",
    "                                     activation='relu'))\n",
    "        model.add(keras.layers.Dense(units=5,\n",
    "                                     activation='relu'))\n",
    "        model.add(keras.layers.Dense(self.action_size,\n",
    "                                     activation='softmax'))\n",
    "        model.summary()\n",
    "        model.compile(loss=\"categorical_crossentropy\",\n",
    "                      optimizer=keras.optimizers.Adam(lr=self.learning_rate))\n",
    "        return model\n",
    "\n",
    "    # using the output of policy network, pick action stochastically\n",
    "    def policy(self, state):\n",
    "        policy = self.model.predict(state, batch_size=1).flatten()\n",
    "        return np.random.choice(self.action_size, 1, p=policy)[0]\n",
    "\n",
    "    # In Policy Gradient, Q function is not available.\n",
    "    # Instead agent uses sample returns for evaluating policy\n",
    "    def discount_rewards(self, rewards):\n",
    "        discounted_rewards = np.zeros_like(rewards)\n",
    "        running_add = 0\n",
    "        for t in reversed(range(0, len(rewards))):\n",
    "            running_add = running_add * self.discount_factor + rewards[t]\n",
    "            discounted_rewards[t] = running_add\n",
    "        return discounted_rewards\n",
    "\n",
    "    # save <s, a ,r> of each step\n",
    "    def append_sample(self, state, action, reward):\n",
    "        self.states.append(state)\n",
    "        self.rewards.append(reward)\n",
    "        self.actions.append(action)\n",
    "\n",
    "    # update policy network every episode\n",
    "    def train_model(self):\n",
    "        episode_length = len(self.states)\n",
    "        discounted_rewards = self.discount_rewards(self.rewards)\n",
    "\n",
    "        update_inputs = np.zeros((episode_length, self.state_size))\n",
    "        advantages = np.zeros((episode_length, self.action_size))\n",
    "\n",
    "        for i in range(episode_length):\n",
    "            update_inputs[i] = self.states[i]\n",
    "            advantages[i][self.actions[i]] = discounted_rewards[i]\n",
    "\n",
    "        self.model.fit(update_inputs, advantages, epochs=1, verbose=0)\n",
    "        self.states, self.actions, self.rewards = [], [], []\n"
   ]
  },
  {
   "cell_type": "code",
   "execution_count": 46,
   "metadata": {},
   "outputs": [
    {
     "name": "stdout",
     "output_type": "stream",
     "text": [
      "_________________________________________________________________\n",
      "Layer (type)                 Output Shape              Param #   \n",
      "=================================================================\n",
      "dense_40 (Dense)             (None, 5)                 25        \n",
      "_________________________________________________________________\n",
      "dense_41 (Dense)             (None, 5)                 30        \n",
      "_________________________________________________________________\n",
      "dense_42 (Dense)             (None, 2)                 12        \n",
      "=================================================================\n",
      "Total params: 67\n",
      "Trainable params: 67\n",
      "Non-trainable params: 0\n",
      "_________________________________________________________________\n",
      "Episode:0 | Avg Reward: 47.0\n",
      "Episode:250 | Avg Reward: 26.86\n",
      "Episode:500 | Avg Reward: 34.7\n",
      "Episode:750 | Avg Reward: 37.32\n",
      "Episode:1000 | Avg Reward: 50.98\n",
      "Episode:1250 | Avg Reward: 77.33\n",
      "Episode:1500 | Avg Reward: 106.6\n",
      "Episode:1750 | Avg Reward: 158.68\n",
      "Episode:2000 | Avg Reward: 212.36\n",
      "Episode:2250 | Avg Reward: 234.04\n",
      "Episode:2500 | Avg Reward: 380.86\n",
      "Episode:2750 | Avg Reward: 470.66\n"
     ]
    },
    {
     "data": {
      "image/png": "[encoded data removed]",
      "text/plain": [
       "<matplotlib.figure.Figure at 0x7f9ff9bc0110>"
      ]
     },
     "metadata": {},
     "output_type": "display_data"
    }
   ],
   "source": [
    "def dpg():\n",
    "    env = gym.make('CartPole-v1')\n",
    "    np.random.seed(123)\n",
    "    env.seed(123)\n",
    "    random.seed(123)\n",
    "    tf.set_random_seed(123)\n",
    "    state_size = env.observation_space.shape[0]\n",
    "    action_size = env.action_space.n\n",
    "    agent = DPGAgent(state_size, action_size)\n",
    "\n",
    "    dpg_avg_rewards = []\n",
    "    scores = deque(maxlen=100)\n",
    "\n",
    "    for e in range(3000):\n",
    "        done = False\n",
    "        score = 0\n",
    "        state = env.reset()\n",
    "        state = np.reshape(state, [1, state_size])\n",
    "\n",
    "        while not done:\n",
    "            action = agent.policy(state)\n",
    "            next_state, reward, done, info = env.step(action)\n",
    "            next_state = np.reshape(next_state, [1, state_size])\n",
    "\n",
    "            # save the sample <s, a, r> to the memory\n",
    "            agent.append_sample(state, action, reward)\n",
    "\n",
    "            score += reward\n",
    "            state = next_state\n",
    "\n",
    "            if done:\n",
    "                agent.train_model()\n",
    "\n",
    "        scores.append(score)\n",
    "        dpg_avg_rewards.append(np.mean(scores))\n",
    "        if (e % 250 == 0):\n",
    "            print(\"Episode:\" + str(e) + \" | Avg Reward: \" + str(dpg_avg_rewards[e]))\n",
    "\n",
    "    return dpg_avg_rewards\n",
    "\n",
    "# plot\n",
    "dpg_avg_rewards = dpg()\n",
    "plt.plot(range(3000),dpg_avg_rewards[0:3000])\n",
    "plt.plot(range(3000),reinforce_avg_rewards[0:3000])\n",
    "plt.legend([\"DPG\",'REINFORCE'])\n",
    "plt.show()"
   ]
  },
  {
   "cell_type": "code",
   "execution_count": 49,
   "metadata": {
    "collapsed": true
   },
   "outputs": [],
   "source": [
    "# A2C(Actor-Critic)\n",
    "class DACAgent:\n",
    "    def __init__(self, state_size, action_size):\n",
    "        # if you want to see Cartpole learning, then change to True\n",
    "        self.render = False\n",
    "        self.load_model = False\n",
    "        # get size of state and action\n",
    "        self.state_size = state_size\n",
    "        self.action_size = action_size\n",
    "        self.value_size = 1\n",
    "\n",
    "        # These are hyper parameters for the Policy Gradient\n",
    "        self.discount_factor = 0.99\n",
    "        self.actor_lr = 0.001\n",
    "        self.critic_lr = 0.005\n",
    "\n",
    "        # create model for policy network\n",
    "        self.actor = self.build_actor()\n",
    "        self.critic = self.build_critic()\n",
    "\n",
    "    # Actor network\n",
    "    def build_actor(self):\n",
    "        actor = keras.models.Sequential()\n",
    "        actor.add(keras.layers.Dense(units=5,\n",
    "                                     input_dim=self.state_size,\n",
    "                                     activation='relu'))\n",
    "        actor.add(keras.layers.Dense(self.action_size,\n",
    "                                     activation='softmax'))\n",
    "        actor.summary()\n",
    "        actor.compile(loss='categorical_crossentropy',\n",
    "                      optimizer=keras.optimizers.Adam(lr=self.critic_lr))\n",
    "        return actor\n",
    "\n",
    "    # Critic network\n",
    "    def build_critic(self):\n",
    "        critic = keras.models.Sequential()\n",
    "        critic.add(keras.layers.Dense(units=5,\n",
    "                                      input_dim=self.state_size,\n",
    "                                      activation='relu'))\n",
    "        critic.add(keras.layers.Dense(self.value_size,\n",
    "                                      activation='linear'))\n",
    "        critic.summary()\n",
    "        critic.compile(loss=\"mse\",\n",
    "                       optimizer=keras.optimizers.Adam(lr=self.critic_lr))\n",
    "        return critic\n",
    "\n",
    "    # using the output of policy network, pick action stochastically\n",
    "    def policy(self, state):\n",
    "        probs = self.actor.predict(state, batch_size=1).flatten()\n",
    "        return np.random.choice(self.action_size, 1, p=probs)[0]\n",
    "\n",
    "    # update policy network every episode\n",
    "    def train_model(self, state, action, reward, next_state, done):\n",
    "        target = np.zeros((1, self.value_size))\n",
    "        advantages = np.zeros((1, self.action_size))\n",
    "\n",
    "        value = self.critic.predict(state)[0]\n",
    "        next_value = self.critic.predict(next_state)[0]\n",
    "\n",
    "        if done:\n",
    "            advantages[0][action] = reward - value\n",
    "            target[0][0] = reward\n",
    "        else:\n",
    "            advantages[0][action] = reward + self.discount_factor * (\n",
    "                next_value - value)\n",
    "            target[0][0] = reward + self.discount_factor * next_value\n",
    "\n",
    "        self.actor.fit(state, advantages, epochs=1, verbose=0)\n",
    "        self.critic.fit(state, target, epochs=1, verbose=0)"
   ]
  },
  {
   "cell_type": "code",
   "execution_count": 48,
   "metadata": {},
   "outputs": [
    {
     "name": "stdout",
     "output_type": "stream",
     "text": [
      "_________________________________________________________________\n",
      "Layer (type)                 Output Shape              Param #   \n",
      "=================================================================\n",
      "dense_43 (Dense)             (None, 5)                 25        \n",
      "_________________________________________________________________\n",
      "dense_44 (Dense)             (None, 2)                 12        \n",
      "=================================================================\n",
      "Total params: 37\n",
      "Trainable params: 37\n",
      "Non-trainable params: 0\n",
      "_________________________________________________________________\n",
      "_________________________________________________________________\n",
      "Layer (type)                 Output Shape              Param #   \n",
      "=================================================================\n",
      "dense_45 (Dense)             (None, 5)                 25        \n",
      "_________________________________________________________________\n",
      "dense_46 (Dense)             (None, 1)                 6         \n",
      "=================================================================\n",
      "Total params: 31\n",
      "Trainable params: 31\n",
      "Non-trainable params: 0\n",
      "_________________________________________________________________\n",
      "Episode:0 | Avg Reward: 58.0\n",
      "Episode:250 | Avg Reward: 55.72\n",
      "Episode:500 | Avg Reward: 177.11\n",
      "Episode:750 | Avg Reward: 342.71\n",
      "Episode:1000 | Avg Reward: 343.12\n",
      "Episode:1250 | Avg Reward: 302.47\n",
      "Episode:1500 | Avg Reward: 293.55\n",
      "Episode:1750 | Avg Reward: 197.04\n",
      "Episode:2000 | Avg Reward: 432.91\n",
      "Episode:2250 | Avg Reward: 345.22\n",
      "Episode:2500 | Avg Reward: 405.31\n",
      "Episode:2750 | Avg Reward: 115.5\n"
     ]
    },
    {
     "data": {
      "image/png": "[encoded data removed]",
      "text/plain": [
       "<matplotlib.figure.Figure at 0x7f9fcc04c110>"
      ]
     },
     "metadata": {},
     "output_type": "display_data"
    }
   ],
   "source": [
    "def dac():\n",
    "    env = gym.make('CartPole-v1')\n",
    "    np.random.seed(123)\n",
    "    env.seed(123)\n",
    "    random.seed(123)\n",
    "    tf.set_random_seed(123)\n",
    "    state_size = env.observation_space.shape[0]\n",
    "    action_size = env.action_space.n\n",
    "    agent = DACAgent(state_size, action_size)\n",
    "\n",
    "    dac_avg_rewards = []\n",
    "    scores = deque(maxlen=100)\n",
    "\n",
    "    for e in range(3000):\n",
    "        done = False\n",
    "        score = 0\n",
    "        state = env.reset()\n",
    "        state = np.reshape(state, [1, state_size])\n",
    "        while not done:\n",
    "            action = agent.policy(state)\n",
    "            next_state, reward, done, info = env.step(action)\n",
    "            next_state = np.reshape(next_state, [1, state_size])\n",
    "\n",
    "            agent.train_model(state, action, reward, next_state, done)\n",
    "\n",
    "            score += reward\n",
    "            state = next_state\n",
    "\n",
    "            if done:\n",
    "                break\n",
    "\n",
    "        scores.append(score)\n",
    "        dac_avg_rewards.append(np.mean(scores))\n",
    "        if (e % 250 == 0):\n",
    "            print(\"Episode:\" + str(e) + \" | Avg Reward: \" + str(dac_avg_rewards[e]))\n",
    "\n",
    "    return dac_avg_rewards\n",
    "\n",
    "# plot\n",
    "dac_avg_rewards = dac()\n",
    "plt.plot(range(3000),dac_avg_rewards[0:3000])\n",
    "plt.plot(range(3000),dpg_avg_rewards[0:3000])\n",
    "plt.plot(range(3000),reinforce_avg_rewards[0:3000])\n",
    "plt.legend([\"DAC\", \"DPG\",'REINFORCE'])\n",
    "plt.show()"
   ]
  },
  {
   "cell_type": "markdown",
   "metadata": {},
   "source": [
    "### Other algorithms\n",
    "\n",
    "### DDPG, A3C, A2C, TRPO, PPO inherits the theories that I have shown above.\n",
    "\n",
    "##### Actor Critic architecture\n",
    "##### Policy Gradient\n",
    "##### Deep Learning model"
   ]
  },
  {
   "cell_type": "markdown",
   "metadata": {
    "collapsed": true
   },
   "source": [
    "# Research Areas?\n",
    "\n",
    "### Auto Machine Learning (AutoML)\n",
    "\n",
    "### Hierarchial Reinforcement Learning\n",
    "\n",
    "### Planning under Partial Observability\n",
    "\n",
    "### Meta learning"
   ]
  },
  {
   "cell_type": "markdown",
   "metadata": {},
   "source": [
    "# Conclusion?\n",
    "\n",
    "Depend on the specified problem, we can pick up the appropriate RL algorithm (not nessesary deep algorithms).\n",
    "\n",
    "### The process to solve the problem with RL algorithms:\n",
    "\n",
    "1. Determine the input and output values of the problem\n",
    "\n",
    "2. Build random, heuristic algorithms (baseline)\n",
    "\n",
    "3. Build RL algorithms: build deep network, write algorithm\n",
    "\n",
    "4. Running the algorithms and tuning hyperparameters (using AutoML)\n",
    "\n",
    "4. Improve algorithms by: normalizing input, adding more inputs, prevent overfiting (adding regularizer, dropout,...)"
   ]
  },
  {
   "cell_type": "markdown",
   "metadata": {},
   "source": [
    "# References"
   ]
  },
  {
   "cell_type": "markdown",
   "metadata": {},
   "source": [
    "1. RL course of David Silver: http://www0.cs.ucl.ac.uk/staff/d.silver/web/Teaching.html"
   ]
  }
 ],
 "metadata": {
  "celltoolbar": "Slideshow",
  "kernelspec": {
   "display_name": "Python 2",
   "language": "python",
   "name": "python2"
  },
  "language_info": {
   "codemirror_mode": {
    "name": "ipython",
    "version": 2
   },
   "file_extension": ".py",
   "mimetype": "text/x-python",
   "name": "python",
   "nbconvert_exporter": "python",
   "pygments_lexer": "ipython2",
   "version": "2.7.13"
  }
 },
 "nbformat": 4,
 "nbformat_minor": 2
}
